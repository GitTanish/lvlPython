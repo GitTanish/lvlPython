{
  "nbformat": 4,
  "nbformat_minor": 0,
  "metadata": {
    "colab": {
      "provenance": []
    },
    "kernelspec": {
      "name": "python3",
      "display_name": "Python 3"
    },
    "language_info": {
      "name": "python"
    }
  },
  "cells": [
    {
      "cell_type": "markdown",
      "source": [
        "There are 2 stages where error may happen in a program\n",
        "\n",
        "- During compilation -> Syntax Error\n",
        "- During execution -> Exceptions"
      ],
      "metadata": {
        "id": "2aSdiLxTOna_"
      }
    },
    {
      "cell_type": "markdown",
      "source": [
        "### Syntax Error\n",
        "\n",
        "- Something in the program is not written according to the program grammar.\n",
        "- Error is raised by the interpreter/compiler\n",
        "- You can solve it by rectifying the program\n"
      ],
      "metadata": {
        "id": "cobZKkatOrUY"
      }
    },
    {
      "cell_type": "code",
      "source": [
        "# Examples of syntax error\n",
        "# print ('hello world')\n",
        "print 'hello world'"
      ],
      "metadata": {
        "colab": {
          "base_uri": "https://localhost:8080/"
        },
        "id": "W5nFCBztOwUC",
        "outputId": "b7e5cb2a-621b-41d9-93fc-327d18be08de"
      },
      "execution_count": null,
      "outputs": [
        {
          "output_type": "stream",
          "name": "stdout",
          "text": [
            "hello world\n"
          ]
        }
      ]
    },
    {
      "cell_type": "markdown",
      "source": [
        "### Other examples of syntax error\n",
        "\n",
        "- Leaving symbols like colon,brackets\n",
        "- Misspelling a keyword\n",
        "- Incorrect indentation\n",
        "- empty if/else/loops/class/functions"
      ],
      "metadata": {
        "id": "cJO1k0iBOwql"
      }
    },
    {
      "cell_type": "code",
      "execution_count": null,
      "metadata": {
        "id": "GVbFUCBKOfy-"
      },
      "outputs": [],
      "source": [
        "a = 5\n",
        "if a==3\n",
        "  print('hello')"
      ]
    },
    {
      "cell_type": "code",
      "source": [
        "a = 5\n",
        "iff a==3:\n",
        "  print('hello')"
      ],
      "metadata": {
        "colab": {
          "base_uri": "https://localhost:8080/",
          "height": 106
        },
        "id": "EiOYMK5hOnHD",
        "outputId": "58579957-9541-4269-c4fa-1ece5fe3d8a9"
      },
      "execution_count": null,
      "outputs": [
        {
          "output_type": "error",
          "ename": "SyntaxError",
          "evalue": "invalid syntax (<ipython-input-5-d1e6fae154d5>, line 2)",
          "traceback": [
            "\u001b[0;36m  File \u001b[0;32m\"<ipython-input-5-d1e6fae154d5>\"\u001b[0;36m, line \u001b[0;32m2\u001b[0m\n\u001b[0;31m    iff a==3:\u001b[0m\n\u001b[0m        ^\u001b[0m\n\u001b[0;31mSyntaxError\u001b[0m\u001b[0;31m:\u001b[0m invalid syntax\n"
          ]
        }
      ]
    },
    {
      "cell_type": "code",
      "source": [
        "a = 5\n",
        "if a==3:\n",
        "print('hello')"
      ],
      "metadata": {
        "colab": {
          "base_uri": "https://localhost:8080/",
          "height": 106
        },
        "id": "oAGnlTx-W7du",
        "outputId": "25b60718-4e33-4941-8f77-234a694ec44d"
      },
      "execution_count": null,
      "outputs": [
        {
          "output_type": "error",
          "ename": "IndentationError",
          "evalue": "expected an indented block after 'if' statement on line 2 (<ipython-input-6-ccc702dc036c>, line 3)",
          "traceback": [
            "\u001b[0;36m  File \u001b[0;32m\"<ipython-input-6-ccc702dc036c>\"\u001b[0;36m, line \u001b[0;32m3\u001b[0m\n\u001b[0;31m    print('hello')\u001b[0m\n\u001b[0m    ^\u001b[0m\n\u001b[0;31mIndentationError\u001b[0m\u001b[0;31m:\u001b[0m expected an indented block after 'if' statement on line 2\n"
          ]
        }
      ]
    },
    {
      "cell_type": "code",
      "source": [
        "# IndexError\n",
        "# The IndexError is thrown when trying to access an item at an invalid index.\n",
        "L = [1,2,3]\n",
        "L[100]"
      ],
      "metadata": {
        "colab": {
          "base_uri": "https://localhost:8080/",
          "height": 193
        },
        "id": "_A0xNzm2W7f9",
        "outputId": "c66bc4ae-ef7f-4fcd-9da3-c89fe4a77022"
      },
      "execution_count": null,
      "outputs": [
        {
          "output_type": "error",
          "ename": "IndexError",
          "evalue": "list index out of range",
          "traceback": [
            "\u001b[0;31m---------------------------------------------------------------------------\u001b[0m",
            "\u001b[0;31mIndexError\u001b[0m                                Traceback (most recent call last)",
            "\u001b[0;32m<ipython-input-7-c90668d2b194>\u001b[0m in \u001b[0;36m<cell line: 4>\u001b[0;34m()\u001b[0m\n\u001b[1;32m      2\u001b[0m \u001b[0;31m# The IndexError is thrown when trying to access an item at an invalid index.\u001b[0m\u001b[0;34m\u001b[0m\u001b[0;34m\u001b[0m\u001b[0m\n\u001b[1;32m      3\u001b[0m \u001b[0mL\u001b[0m \u001b[0;34m=\u001b[0m \u001b[0;34m[\u001b[0m\u001b[0;36m1\u001b[0m\u001b[0;34m,\u001b[0m\u001b[0;36m2\u001b[0m\u001b[0;34m,\u001b[0m\u001b[0;36m3\u001b[0m\u001b[0;34m]\u001b[0m\u001b[0;34m\u001b[0m\u001b[0;34m\u001b[0m\u001b[0m\n\u001b[0;32m----> 4\u001b[0;31m \u001b[0mL\u001b[0m\u001b[0;34m[\u001b[0m\u001b[0;36m100\u001b[0m\u001b[0;34m]\u001b[0m\u001b[0;34m\u001b[0m\u001b[0;34m\u001b[0m\u001b[0m\n\u001b[0m",
            "\u001b[0;31mIndexError\u001b[0m: list index out of range"
          ]
        }
      ]
    },
    {
      "cell_type": "code",
      "source": [
        "# ModuleNotFoundError\n",
        "# The ModuleNotFoundError is thrown when a module could not be found.\n",
        "import mathi\n",
        "math.floor(5.3)"
      ],
      "metadata": {
        "colab": {
          "base_uri": "https://localhost:8080/",
          "height": 366
        },
        "id": "4H31-iBpW7iK",
        "outputId": "f06982d2-b44e-413a-f891-f5ac869d2b9d"
      },
      "execution_count": null,
      "outputs": [
        {
          "output_type": "error",
          "ename": "ModuleNotFoundError",
          "evalue": "No module named 'mathi'",
          "traceback": [
            "\u001b[0;31m---------------------------------------------------------------------------\u001b[0m",
            "\u001b[0;31mModuleNotFoundError\u001b[0m                       Traceback (most recent call last)",
            "\u001b[0;32m<ipython-input-11-cbdaf00191df>\u001b[0m in \u001b[0;36m<cell line: 3>\u001b[0;34m()\u001b[0m\n\u001b[1;32m      1\u001b[0m \u001b[0;31m# ModuleNotFoundError\u001b[0m\u001b[0;34m\u001b[0m\u001b[0;34m\u001b[0m\u001b[0m\n\u001b[1;32m      2\u001b[0m \u001b[0;31m# The ModuleNotFoundError is thrown when a module could not be found.\u001b[0m\u001b[0;34m\u001b[0m\u001b[0;34m\u001b[0m\u001b[0m\n\u001b[0;32m----> 3\u001b[0;31m \u001b[0;32mimport\u001b[0m \u001b[0mmathi\u001b[0m\u001b[0;34m\u001b[0m\u001b[0;34m\u001b[0m\u001b[0m\n\u001b[0m\u001b[1;32m      4\u001b[0m \u001b[0mmath\u001b[0m\u001b[0;34m.\u001b[0m\u001b[0mfloor\u001b[0m\u001b[0;34m(\u001b[0m\u001b[0;36m5.3\u001b[0m\u001b[0;34m)\u001b[0m\u001b[0;34m\u001b[0m\u001b[0;34m\u001b[0m\u001b[0m\n",
            "\u001b[0;31mModuleNotFoundError\u001b[0m: No module named 'mathi'",
            "",
            "\u001b[0;31m---------------------------------------------------------------------------\u001b[0;32m\nNOTE: If your import is failing due to a missing package, you can\nmanually install dependencies using either !pip or !apt.\n\nTo view examples of installing some common dependencies, click the\n\"Open Examples\" button below.\n\u001b[0;31m---------------------------------------------------------------------------\u001b[0m\n"
          ],
          "errorDetails": {
            "actions": [
              {
                "action": "open_url",
                "actionText": "Open Examples",
                "url": "/notebooks/snippets/importing_libraries.ipynb"
              }
            ]
          }
        }
      ]
    },
    {
      "cell_type": "code",
      "source": [
        "# KeyError\n",
        "# The KeyError is thrown when a key is not found\n",
        "\n",
        "d = {'name':'nitish'}\n",
        "d['age']"
      ],
      "metadata": {
        "colab": {
          "base_uri": "https://localhost:8080/",
          "height": 176
        },
        "id": "o4QYz-KoW7kR",
        "outputId": "12ff9136-4db5-44dc-c9a7-696a7aed32b3"
      },
      "execution_count": null,
      "outputs": [
        {
          "output_type": "error",
          "ename": "KeyError",
          "evalue": "'age'",
          "traceback": [
            "\u001b[0;31m---------------------------------------------------------------------------\u001b[0m",
            "\u001b[0;31mKeyError\u001b[0m                                  Traceback (most recent call last)",
            "\u001b[0;32m<ipython-input-12-453afa1c9765>\u001b[0m in \u001b[0;36m<cell line: 5>\u001b[0;34m()\u001b[0m\n\u001b[1;32m      3\u001b[0m \u001b[0;34m\u001b[0m\u001b[0m\n\u001b[1;32m      4\u001b[0m \u001b[0md\u001b[0m \u001b[0;34m=\u001b[0m \u001b[0;34m{\u001b[0m\u001b[0;34m'name'\u001b[0m\u001b[0;34m:\u001b[0m\u001b[0;34m'nitish'\u001b[0m\u001b[0;34m}\u001b[0m\u001b[0;34m\u001b[0m\u001b[0;34m\u001b[0m\u001b[0m\n\u001b[0;32m----> 5\u001b[0;31m \u001b[0md\u001b[0m\u001b[0;34m[\u001b[0m\u001b[0;34m'age'\u001b[0m\u001b[0;34m]\u001b[0m\u001b[0;34m\u001b[0m\u001b[0;34m\u001b[0m\u001b[0m\n\u001b[0m",
            "\u001b[0;31mKeyError\u001b[0m: 'age'"
          ]
        }
      ]
    },
    {
      "cell_type": "code",
      "source": [
        "# TypeError\n",
        "# The TypeError is thrown when an operation or function is applied to an object of an inappropriate type.\n",
        "1 + 'hello'"
      ],
      "metadata": {
        "colab": {
          "base_uri": "https://localhost:8080/",
          "height": 193
        },
        "id": "8rfhwSAfW7mg",
        "outputId": "20885f74-c744-44e1-c7d8-7cb997cc37d4"
      },
      "execution_count": null,
      "outputs": [
        {
          "output_type": "error",
          "ename": "TypeError",
          "evalue": "unsupported operand type(s) for +: 'int' and 'str'",
          "traceback": [
            "\u001b[0;31m---------------------------------------------------------------------------\u001b[0m",
            "\u001b[0;31mTypeError\u001b[0m                                 Traceback (most recent call last)",
            "\u001b[0;32m<ipython-input-13-1e2ab273abc9>\u001b[0m in \u001b[0;36m<cell line: 3>\u001b[0;34m()\u001b[0m\n\u001b[1;32m      1\u001b[0m \u001b[0;31m# TypeError\u001b[0m\u001b[0;34m\u001b[0m\u001b[0;34m\u001b[0m\u001b[0m\n\u001b[1;32m      2\u001b[0m \u001b[0;31m# The TypeError is thrown when an operation or function is applied to an object of an inappropriate type.\u001b[0m\u001b[0;34m\u001b[0m\u001b[0;34m\u001b[0m\u001b[0m\n\u001b[0;32m----> 3\u001b[0;31m \u001b[0;36m1\u001b[0m \u001b[0;34m+\u001b[0m \u001b[0;34m'hello'\u001b[0m\u001b[0;34m\u001b[0m\u001b[0;34m\u001b[0m\u001b[0m\n\u001b[0m",
            "\u001b[0;31mTypeError\u001b[0m: unsupported operand type(s) for +: 'int' and 'str'"
          ]
        }
      ]
    },
    {
      "cell_type": "code",
      "source": [
        "# ValueError\n",
        "# The ValueError is thrown when a function's argument is of an inappropriate type.\n",
        "int('a')"
      ],
      "metadata": {
        "colab": {
          "base_uri": "https://localhost:8080/",
          "height": 193
        },
        "id": "Tng7W13vW7p9",
        "outputId": "9a11dd80-78fc-46a3-cb2e-7f8dc1a1d55b"
      },
      "execution_count": null,
      "outputs": [
        {
          "output_type": "error",
          "ename": "ValueError",
          "evalue": "invalid literal for int() with base 10: 'a'",
          "traceback": [
            "\u001b[0;31m---------------------------------------------------------------------------\u001b[0m",
            "\u001b[0;31mValueError\u001b[0m                                Traceback (most recent call last)",
            "\u001b[0;32m<ipython-input-14-e419d2a084b4>\u001b[0m in \u001b[0;36m<cell line: 3>\u001b[0;34m()\u001b[0m\n\u001b[1;32m      1\u001b[0m \u001b[0;31m# ValueError\u001b[0m\u001b[0;34m\u001b[0m\u001b[0;34m\u001b[0m\u001b[0m\n\u001b[1;32m      2\u001b[0m \u001b[0;31m# The ValueError is thrown when a function's argument is of an inappropriate type.\u001b[0m\u001b[0;34m\u001b[0m\u001b[0;34m\u001b[0m\u001b[0m\n\u001b[0;32m----> 3\u001b[0;31m \u001b[0mint\u001b[0m\u001b[0;34m(\u001b[0m\u001b[0;34m'a'\u001b[0m\u001b[0;34m)\u001b[0m\u001b[0;34m\u001b[0m\u001b[0;34m\u001b[0m\u001b[0m\n\u001b[0m",
            "\u001b[0;31mValueError\u001b[0m: invalid literal for int() with base 10: 'a'"
          ]
        }
      ]
    },
    {
      "cell_type": "code",
      "source": [
        "# NameError\n",
        "# The NameError is thrown when an object could not be found.\n",
        "print(k)"
      ],
      "metadata": {
        "colab": {
          "base_uri": "https://localhost:8080/",
          "height": 176
        },
        "id": "Ai0bq9fSbwgX",
        "outputId": "86db8c36-8269-470d-d7ca-45b76c033281"
      },
      "execution_count": null,
      "outputs": [
        {
          "output_type": "error",
          "ename": "NameError",
          "evalue": "name 'k' is not defined",
          "traceback": [
            "\u001b[0;31m---------------------------------------------------------------------------\u001b[0m",
            "\u001b[0;31mNameError\u001b[0m                                 Traceback (most recent call last)",
            "\u001b[0;32m<ipython-input-9-e3e8aaa4ec45>\u001b[0m in \u001b[0;36m<cell line: 3>\u001b[0;34m()\u001b[0m\n\u001b[1;32m      1\u001b[0m \u001b[0;31m# NameError\u001b[0m\u001b[0;34m\u001b[0m\u001b[0;34m\u001b[0m\u001b[0m\n\u001b[1;32m      2\u001b[0m \u001b[0;31m# The NameError is thrown when an object could not be found.\u001b[0m\u001b[0;34m\u001b[0m\u001b[0;34m\u001b[0m\u001b[0m\n\u001b[0;32m----> 3\u001b[0;31m \u001b[0mprint\u001b[0m\u001b[0;34m(\u001b[0m\u001b[0mk\u001b[0m\u001b[0;34m)\u001b[0m\u001b[0;34m\u001b[0m\u001b[0;34m\u001b[0m\u001b[0m\n\u001b[0m",
            "\u001b[0;31mNameError\u001b[0m: name 'k' is not defined"
          ]
        }
      ]
    },
    {
      "cell_type": "code",
      "source": [
        "# AttributeError\n",
        "L = [1,2,3]\n",
        "L.upper() # its a string function\n",
        "\n",
        "# Stacktrace"
      ],
      "metadata": {
        "colab": {
          "base_uri": "https://localhost:8080/",
          "height": 211
        },
        "id": "5FY0I40vbz70",
        "outputId": "e1d33ace-8227-425a-8bde-5cf74055d05b"
      },
      "execution_count": null,
      "outputs": [
        {
          "output_type": "error",
          "ename": "AttributeError",
          "evalue": "'list' object has no attribute 'upper'",
          "traceback": [
            "\u001b[0;31m---------------------------------------------------------------------------\u001b[0m",
            "\u001b[0;31mAttributeError\u001b[0m                            Traceback (most recent call last)",
            "\u001b[0;32m<ipython-input-10-02532e56c452>\u001b[0m in \u001b[0;36m<cell line: 3>\u001b[0;34m()\u001b[0m\n\u001b[1;32m      1\u001b[0m \u001b[0;31m# AttributeError\u001b[0m\u001b[0;34m\u001b[0m\u001b[0;34m\u001b[0m\u001b[0m\n\u001b[1;32m      2\u001b[0m \u001b[0mL\u001b[0m \u001b[0;34m=\u001b[0m \u001b[0;34m[\u001b[0m\u001b[0;36m1\u001b[0m\u001b[0;34m,\u001b[0m\u001b[0;36m2\u001b[0m\u001b[0;34m,\u001b[0m\u001b[0;36m3\u001b[0m\u001b[0;34m]\u001b[0m\u001b[0;34m\u001b[0m\u001b[0;34m\u001b[0m\u001b[0m\n\u001b[0;32m----> 3\u001b[0;31m \u001b[0mL\u001b[0m\u001b[0;34m.\u001b[0m\u001b[0mupper\u001b[0m\u001b[0;34m(\u001b[0m\u001b[0;34m)\u001b[0m\u001b[0;34m\u001b[0m\u001b[0;34m\u001b[0m\u001b[0m\n\u001b[0m\u001b[1;32m      4\u001b[0m \u001b[0;34m\u001b[0m\u001b[0m\n\u001b[1;32m      5\u001b[0m \u001b[0;31m# Stacktrace\u001b[0m\u001b[0;34m\u001b[0m\u001b[0;34m\u001b[0m\u001b[0m\n",
            "\u001b[0;31mAttributeError\u001b[0m: 'list' object has no attribute 'upper'"
          ]
        }
      ]
    },
    {
      "cell_type": "markdown",
      "source": [
        "### Exceptions\n",
        "\n",
        "If things go wrong during the execution of the program(runtime). It generally happens when something unforeseen has happened.\n",
        "\n",
        "- Exceptions are raised by python runtime\n",
        "- You have to takle is on the fly\n",
        "\n",
        "#### **Examples**\n",
        "\n",
        "- Memory overflow\n",
        "- Divide by 0 -> logical error\n",
        "- Database error"
      ],
      "metadata": {
        "id": "Lz5CGY7nG-Dv"
      }
    },
    {
      "cell_type": "code",
      "source": [
        "# Why is it important to handle exceptions\n",
        "# how to handle exceptions\n",
        "# -> Try except block"
      ],
      "metadata": {
        "id": "WUgLdaslb0Gt"
      },
      "execution_count": null,
      "outputs": []
    },
    {
      "cell_type": "code",
      "source": [
        "# creating a file\n",
        "with open('sample.txt', 'w') as f:\n",
        "  f.write('Hwllo')"
      ],
      "metadata": {
        "id": "8qHtc4bMJB-3"
      },
      "execution_count": 8,
      "outputs": []
    },
    {
      "cell_type": "code",
      "source": [
        "# try catch demo\n",
        "try:\n",
        "  with open('sample1.txt','r') as f:\n",
        "    print(f.read())\n",
        "except:\n",
        "  print('sorry file not found')"
      ],
      "metadata": {
        "id": "yPrdFwlrb0JK",
        "colab": {
          "base_uri": "https://localhost:8080/"
        },
        "outputId": "cb070072-1b53-485d-f258-70b6f5dc7893"
      },
      "execution_count": 5,
      "outputs": [
        {
          "output_type": "stream",
          "name": "stdout",
          "text": [
            "sorry file not found\n"
          ]
        }
      ]
    },
    {
      "cell_type": "code",
      "source": [
        "try:\n",
        "  with open('demi.txt','r') as f:\n",
        "    print(f.read())\n",
        "except:\n",
        "  print('file not found')"
      ],
      "metadata": {
        "colab": {
          "base_uri": "https://localhost:8080/"
        },
        "id": "bjXitaNyHmp9",
        "outputId": "abc85f6f-c6ea-4fe6-b770-b2b8cef5248d"
      },
      "execution_count": 4,
      "outputs": [
        {
          "output_type": "stream",
          "name": "stdout",
          "text": [
            "file not found\n"
          ]
        }
      ]
    },
    {
      "cell_type": "code",
      "source": [
        "# catching\n",
        "try:\n",
        "  m = 5\n",
        "  with open('sample.txt','r') as f:\n",
        "    print(f.read())\n",
        "   # print(m/0)\n",
        "    L = [1,2,3,4]\n",
        "    print(L[100])\n",
        "except FileNotFoundError:\n",
        "  print('File not found')\n",
        "except NameError:\n",
        "  print('Variable not defined')\n",
        "except ZeroDivisionError:\n",
        "  print('cannot divide with zero')\n",
        "except Exception as e: # should always be in last\n",
        "  print(e)"
      ],
      "metadata": {
        "colab": {
          "base_uri": "https://localhost:8080/"
        },
        "id": "64cL5aafHmss",
        "outputId": "285ddcc1-7415-4a93-896a-cd247cf13215"
      },
      "execution_count": 21,
      "outputs": [
        {
          "output_type": "stream",
          "name": "stdout",
          "text": [
            "Hwllo\n",
            "list index out of range\n"
          ]
        }
      ]
    },
    {
      "cell_type": "code",
      "source": [
        "try:\n",
        "  a,b = int(input(\"Enter 2 numbers:\"))\n",
        "  print(a+b)\n",
        "except ValueError:\n",
        "  print('please enter an integer number')\n",
        "\n"
      ],
      "metadata": {
        "colab": {
          "base_uri": "https://localhost:8080/"
        },
        "id": "bEw5PdczHmvm",
        "outputId": "8a7292aa-6c1f-4f28-d7c4-f6d129f02910"
      },
      "execution_count": 12,
      "outputs": [
        {
          "output_type": "stream",
          "name": "stdout",
          "text": [
            "Enter 2 numbers:3rgthg\n",
            "please enter an integer number\n"
          ]
        }
      ]
    },
    {
      "cell_type": "code",
      "source": [
        "# else\n",
        "# the above method is also good but this one with else just enhances the readability more\n",
        "try:\n",
        "  f = open('sample.txt','r')\n",
        "except FileNotFoundError:\n",
        "  print(\"This File Doesn't Exist\")\n",
        "except Exception as e:\n",
        "  print('kuch to lafda hai')\n",
        "else:\n",
        "  print(f.read())\n",
        ""
      ],
      "metadata": {
        "colab": {
          "base_uri": "https://localhost:8080/"
        },
        "id": "e4t2A1RWHmyQ",
        "outputId": "88419a3c-a463-4756-b5dd-163f5c6b09d5"
      },
      "execution_count": 22,
      "outputs": [
        {
          "output_type": "stream",
          "name": "stdout",
          "text": [
            "Hwllo\n"
          ]
        }
      ]
    },
    {
      "cell_type": "code",
      "source": [
        "# else\n",
        "# finally\n",
        "try:\n",
        "  f = open('sample.txt','r')\n",
        "except FileNotFoundError:\n",
        "  print(\"This File Doesn't Exist\")\n",
        "except Exception as e:\n",
        "  print('kuch to lafda hai')\n",
        "else:\n",
        "  print(f.read())\n",
        "finally:\n",
        "  print('Mein to chal ke rahunga')"
      ],
      "metadata": {
        "colab": {
          "base_uri": "https://localhost:8080/"
        },
        "id": "Q9tVLmskHm12",
        "outputId": "18fa38af-5069-4dc3-c11b-11adaabd5098"
      },
      "execution_count": 23,
      "outputs": [
        {
          "output_type": "stream",
          "name": "stdout",
          "text": [
            "Hwllo\n",
            "Mein to chal ke rahunga\n"
          ]
        }
      ]
    },
    {
      "cell_type": "code",
      "source": [
        "# raise Exception\n",
        "# In Python programming, exceptions are raised when errors occur at runtime.\n",
        "# We can also manually raise exceptions using the raise keyword.\n",
        "\n",
        "# We can optionally pass values to the exception to clarify why that exception was raised"
      ],
      "metadata": {
        "id": "mPrClwSQb0LR"
      },
      "execution_count": null,
      "outputs": []
    },
    {
      "cell_type": "code",
      "source": [
        "raise NameError('Try kar raha')"
      ],
      "metadata": {
        "id": "E33boM4vb0Oo",
        "colab": {
          "base_uri": "https://localhost:8080/",
          "height": 141
        },
        "outputId": "cdc68735-4dcb-4c14-a28d-78f2947bde5a"
      },
      "execution_count": 24,
      "outputs": [
        {
          "output_type": "error",
          "ename": "NameError",
          "evalue": "Try kar raha",
          "traceback": [
            "\u001b[0;31m---------------------------------------------------------------------------\u001b[0m",
            "\u001b[0;31mNameError\u001b[0m                                 Traceback (most recent call last)",
            "\u001b[0;32m<ipython-input-24-7436c1bdc7e0>\u001b[0m in \u001b[0;36m<cell line: 1>\u001b[0;34m()\u001b[0m\n\u001b[0;32m----> 1\u001b[0;31m \u001b[0;32mraise\u001b[0m \u001b[0mNameError\u001b[0m\u001b[0;34m(\u001b[0m\u001b[0;34m'Try kar raha'\u001b[0m\u001b[0;34m)\u001b[0m\u001b[0;34m\u001b[0m\u001b[0;34m\u001b[0m\u001b[0m\n\u001b[0m",
            "\u001b[0;31mNameError\u001b[0m: Try kar raha"
          ]
        }
      ]
    },
    {
      "cell_type": "code",
      "source": [
        "# creating custom exceptions\n",
        "# exception hierarchy in python"
      ],
      "metadata": {
        "id": "BP-YFzhEO2tE"
      },
      "execution_count": null,
      "outputs": []
    },
    {
      "cell_type": "code",
      "source": [
        "class Bank:\n",
        "\n",
        "  def __init__(self,balance): # constructor\n",
        "    self.balance = balance\n",
        "\n",
        "  def withdraw(self,amount):\n",
        "    if amount <0:\n",
        "      raise Exception('Amount cannot be -ve')\n",
        "    if self.balance < amount:\n",
        "      raise Exception('Paise nai hai tere pass')\n",
        "    self.balance = self.balance - amount\n",
        "\n",
        "\n",
        "obj = Bank(10000)\n",
        "try:\n",
        "  obj.withdraw(100000)\n",
        "except Exception as e:\n",
        "  print(e)\n"
      ],
      "metadata": {
        "colab": {
          "base_uri": "https://localhost:8080/"
        },
        "id": "feWdsfuwO2pp",
        "outputId": "89447aa7-b77d-40ef-81cb-e2ed2a321161"
      },
      "execution_count": 34,
      "outputs": [
        {
          "output_type": "stream",
          "name": "stdout",
          "text": [
            "Paise nai hai tere pass\n"
          ]
        }
      ]
    },
    {
      "cell_type": "code",
      "source": [],
      "metadata": {
        "id": "lcrf54GnO2i1"
      },
      "execution_count": null,
      "outputs": []
    },
    {
      "cell_type": "code",
      "source": [],
      "metadata": {
        "id": "ayBprEmyO2fW"
      },
      "execution_count": null,
      "outputs": []
    },
    {
      "cell_type": "code",
      "source": [],
      "metadata": {
        "id": "omUlGERBO2c5"
      },
      "execution_count": null,
      "outputs": []
    },
    {
      "cell_type": "code",
      "source": [],
      "metadata": {
        "id": "C11WgW8vO2ad"
      },
      "execution_count": null,
      "outputs": []
    },
    {
      "cell_type": "code",
      "source": [],
      "metadata": {
        "id": "0dgIE5p1O2X6"
      },
      "execution_count": null,
      "outputs": []
    },
    {
      "cell_type": "code",
      "source": [],
      "metadata": {
        "id": "8T2zWloZO2VC"
      },
      "execution_count": null,
      "outputs": []
    },
    {
      "cell_type": "code",
      "source": [],
      "metadata": {
        "id": "bcSGHWXLO2Jd"
      },
      "execution_count": null,
      "outputs": []
    }
  ]
}