{
  "nbformat": 4,
  "nbformat_minor": 0,
  "metadata": {
    "colab": {
      "provenance": []
    },
    "kernelspec": {
      "name": "python3",
      "display_name": "Python 3"
    },
    "language_info": {
      "name": "python"
    }
  },
  "cells": [
    {
      "cell_type": "markdown",
      "source": [
        "##### Types of data used for I/O:\n",
        "- Text - '12345' as a sequence of unicode chars\n",
        "- Binary - 12345 as a sequence of bytes of its binary equivalent\n",
        "\n",
        "##### Hence there are 2 file types to deal with\n",
        "- Text files - All program files are text files\n",
        "- Binary Files - Images,music,video,exe files"
      ],
      "metadata": {
        "id": "fU89_iyoo6-Y"
      }
    },
    {
      "cell_type": "markdown",
      "source": [
        "### How File I/O is done in most programming languages\n",
        "\n",
        "- Open a file\n",
        "- Read/Write data\n",
        "- Close the file"
      ],
      "metadata": {
        "id": "yHoWvZ4Cp2gY"
      }
    },
    {
      "cell_type": "markdown",
      "source": [
        "### Writing a file"
      ],
      "metadata": {
        "id": "rdIXOpIdqPbk"
      }
    },
    {
      "cell_type": "code",
      "execution_count": 4,
      "metadata": {
        "id": "AMuHahxpouBa"
      },
      "outputs": [],
      "source": [
        "# case 1- if the file is not present or doesn't exist\n",
        "f = open ('sample.txt','w')\n",
        "f.write('hello world')\n",
        "f.close()\n",
        "# since file is close hence, this will not work\n",
        "# f.write('hashmap')"
      ]
    },
    {
      "cell_type": "code",
      "source": [
        "# write miltiline strings\n",
        "f = open('sample1.txt','w')\n",
        "f.write('hello')\n",
        "f.write('\\nHow are you?')\n",
        "f.close()"
      ],
      "metadata": {
        "id": "zQPKB0iio0qD"
      },
      "execution_count": 5,
      "outputs": []
    },
    {
      "cell_type": "code",
      "source": [
        "# case 2 - if the file is already present\n",
        "f = open('sample.txt','w') # since present in same directory\n",
        "f.write('salmon fish, campus x') #when writing in an existing file the  old contents gets replace by the new one\n",
        "f.close()"
      ],
      "metadata": {
        "id": "LMnf4D0xr40g"
      },
      "execution_count": 6,
      "outputs": []
    },
    {
      "cell_type": "code",
      "source": [
        "# Problem with w mode\n",
        "# introducing append mode\n",
        "f = open('/content/sample1.txt','a')\n",
        "f.write('\\nI am fine')\n",
        "f.close()"
      ],
      "metadata": {
        "id": "X3AtqsD7o0tI"
      },
      "execution_count": 7,
      "outputs": []
    },
    {
      "cell_type": "code",
      "source": [
        "# write lines\n",
        "L = ['hello\\n','hi\\n','how are you\\n','I am Fine\\n']\n",
        "f = open('/content/sample.txt','w')\n",
        "f.writelines(L)\n",
        "f.close()"
      ],
      "metadata": {
        "id": "bmIW3-8jo0wn"
      },
      "execution_count": 8,
      "outputs": []
    },
    {
      "cell_type": "code",
      "source": [
        "# reading from files\n",
        "# -> using read()\n",
        "f = open('/content/sample.txt','r')\n",
        "s=f.read()\n",
        "print(s)\n",
        "f.close()"
      ],
      "metadata": {
        "colab": {
          "base_uri": "https://localhost:8080/"
        },
        "id": "NrtZO3cLugQi",
        "outputId": "5eee0353-01dc-4838-c65d-a78280eb6749"
      },
      "execution_count": 9,
      "outputs": [
        {
          "output_type": "stream",
          "name": "stdout",
          "text": [
            "hello\n",
            "hi\n",
            "how are you\n",
            "I am Fine\n",
            "\n"
          ]
        }
      ]
    },
    {
      "cell_type": "code",
      "source": [
        "# reading upto n chars\n",
        "f = open('/content/sample.txt','r')\n",
        "s = f.read(10) # i.e, read till 10 characters\n",
        "print(s)\n",
        "f.close()"
      ],
      "metadata": {
        "colab": {
          "base_uri": "https://localhost:8080/"
        },
        "id": "H3EqnAt8ugdv",
        "outputId": "5547930a-bd29-4a24-a281-d8114c782f89"
      },
      "execution_count": 10,
      "outputs": [
        {
          "output_type": "stream",
          "name": "stdout",
          "text": [
            "hello\n",
            "hi\n",
            "h\n"
          ]
        }
      ]
    },
    {
      "cell_type": "code",
      "source": [
        "# readline() -> to read line by line\n",
        "f = open('/content/sample.txt','r')\n",
        "print(f.readline(),end=\"\")\n",
        "print(f.readline(),end=\"\")\n",
        "f.close()"
      ],
      "metadata": {
        "colab": {
          "base_uri": "https://localhost:8080/"
        },
        "id": "65ST_QtCuggX",
        "outputId": "ab68ce55-fbdb-492c-804c-37e59b080f2c"
      },
      "execution_count": 11,
      "outputs": [
        {
          "output_type": "stream",
          "name": "stdout",
          "text": [
            "hello\n",
            "hi\n"
          ]
        }
      ]
    },
    {
      "cell_type": "code",
      "source": [
        "# reading entire using readline\n",
        "f = open('/content/sample.txt','r')\n",
        "\n",
        "while True:\n",
        "  data = f.readline()\n",
        "\n",
        "  if data == '':\n",
        "    break\n",
        "  else:\n",
        "    print(data,end='')\n",
        "f.close()"
      ],
      "metadata": {
        "colab": {
          "base_uri": "https://localhost:8080/"
        },
        "id": "F5jdtI1qugjj",
        "outputId": "058b14f7-924e-4af5-9928-6e173fa3baa8"
      },
      "execution_count": 12,
      "outputs": [
        {
          "output_type": "stream",
          "name": "stdout",
          "text": [
            "hello\n",
            "hi\n",
            "how are you\n",
            "I am Fine\n"
          ]
        }
      ]
    },
    {
      "cell_type": "markdown",
      "source": [
        "### Using Context Manager (With)\n",
        "\n",
        "- It's a good idea to close a file after usage as it will free up the resources\n",
        "- If we dont close it, garbage collector would close it\n",
        "- with keyword closes the file as soon as the usage is over"
      ],
      "metadata": {
        "id": "59tAxToSy12j"
      }
    },
    {
      "cell_type": "code",
      "source": [
        "# with\n",
        "with open('sample1.txt', 'w') as f:\n",
        "  f.write('Why not')"
      ],
      "metadata": {
        "id": "tfch9jify1Ot"
      },
      "execution_count": 13,
      "outputs": []
    },
    {
      "cell_type": "code",
      "source": [
        "# try f.read() now\n",
        "with open('sample.txt','r') as f:\n",
        "  print(f.read())"
      ],
      "metadata": {
        "id": "BJcfFA58zWID",
        "colab": {
          "base_uri": "https://localhost:8080/"
        },
        "outputId": "2b682925-29e6-4cc5-de70-ee0d22b0507a"
      },
      "execution_count": 14,
      "outputs": [
        {
          "output_type": "stream",
          "name": "stdout",
          "text": [
            "hello\n",
            "hi\n",
            "how are you\n",
            "I am Fine\n",
            "\n"
          ]
        }
      ]
    },
    {
      "cell_type": "code",
      "source": [
        "# moving within a file -> 10 char then 10 char\n",
        "with open('sample.txt','r') as f:\n",
        "  print(f.read(10))\n",
        "  print(f.read(10))"
      ],
      "metadata": {
        "id": "aBnrwW4jzWLh",
        "colab": {
          "base_uri": "https://localhost:8080/"
        },
        "outputId": "e52278ed-63cc-4185-9e8f-39634d03f3f5"
      },
      "execution_count": 17,
      "outputs": [
        {
          "output_type": "stream",
          "name": "stdout",
          "text": [
            "hello\n",
            "hi\n",
            "h\n",
            "ow are you\n"
          ]
        }
      ]
    },
    {
      "cell_type": "code",
      "source": [
        "# benefit? -> to load a big file in memory\n",
        "big_L = ['hello world' for i in range(1000)]\n",
        "with open('big.txt','w') as f:\n",
        "  f.writelines(big_L)"
      ],
      "metadata": {
        "id": "sjNbNlK30QE2"
      },
      "execution_count": 18,
      "outputs": []
    },
    {
      "cell_type": "code",
      "source": [
        "with open('big.txt','r') as f:\n",
        "  chunk_size = 100\n",
        "\n",
        "  while len(f.read(chunk_size))>0:\n",
        "    print(f.read(chunk_size),end=\"\")\n",
        "    f.read(chunk_size)"
      ],
      "metadata": {
        "colab": {
          "base_uri": "https://localhost:8080/"
        },
        "id": "ps25Z6po0QIX",
        "outputId": "c0b6f834-bffb-4610-d3da-bc6147246b37"
      },
      "execution_count": 21,
      "outputs": [
        {
          "output_type": "stream",
          "name": "stdout",
          "text": [
            "ello worldhello worldhello worldhello worldhello worldhello worldhello worldhello worldhello worldheo worldhello worldhello worldhello worldhello worldhello worldhello worldhello worldhello worldhelloorldhello worldhello worldhello worldhello worldhello worldhello worldhello worldhello worldhello wodhello worldhello worldhello worldhello worldhello worldhello worldhello worldhello worldhello worldllo worldhello worldhello worldhello worldhello worldhello worldhello worldhello worldhello worldhel worldhello worldhello worldhello worldhello worldhello worldhello worldhello worldhello worldhello rldhello worldhello worldhello worldhello worldhello worldhello worldhello worldhello worldhello worhello worldhello worldhello worldhello worldhello worldhello worldhello worldhello worldhello worldhlo worldhello worldhello worldhello worldhello worldhello worldhello worldhello worldhello worldhellworldhello worldhello worldhello worldhello worldhello worldhello worldhello worldhello worldhello wldhello worldhello worldhello worldhello worldhello worldhello worldhello worldhello worldhello worlello worldhello worldhello worldhello worldhello worldhello worldhello worldhello worldhello worldheo worldhello worldhello worldhello worldhello worldhello worldhello worldhello worldhello worldhelloorldhello worldhello worldhello worldhello worldhello worldhello worldhello worldhello worldhello wodhello worldhello worldhello worldhello worldhello worldhello worldhello worldhello worldhello worldllo worldhello worldhello worldhello worldhello worldhello worldhello worldhello worldhello worldhel worldhello worldhello worldhello worldhello worldhello worldhello worldhello worldhello worldhello rldhello worldhello worldhello worldhello worldhello worldhello worldhello worldhello worldhello worhello worldhello worldhello worldhello worldhello worldhello worldhello worldhello worldhello worldhlo worldhello worldhello worldhello worldhello worldhello worldhello worldhello worldhello worldhellworldhello worldhello worldhello worldhello worldhello worldhello worldhello worldhello worldhello wldhello worldhello worldhello worldhello worldhello worldhello worldhello worldhello worldhello worlello worldhello worldhello worldhello worldhello worldhello worldhello worldhello worldhello worldheo worldhello worldhello worldhello worldhello worldhello worldhello worldhello worldhello worldhelloorldhello worldhello worldhello worldhello worldhello worldhello worldhello worldhello worldhello wodhello worldhello worldhello worldhello worldhello worldhello worldhello worldhello worldhello worldllo worldhello worldhello worldhello worldhello worldhello worldhello worldhello worldhello worldhel worldhello worldhello worldhello worldhello worldhello worldhello worldhello worldhello worldhello rldhello worldhello worldhello worldhello worldhello worldhello worldhello worldhello worldhello worhello worldhello worldhello worldhello worldhello worldhello worldhello worldhello worldhello worldhlo worldhello worldhello worldhello worldhello worldhello worldhello worldhello worldhello worldhellworldhello worldhello worldhello worldhello worldhello worldhello worldhello worldhello worldhello wldhello worldhello worldhello worldhello worldhello worldhello worldhello worldhello worldhello worlello worldhello worldhello worldhello worldhello worldhello worldhello worldhello worldhello worldheo worldhello worldhello worldhello worldhello worldhello worldhello worldhello worldhello worldhelloorldhello worldhello worldhello worldhello worldhello worldhello worldhello worldhello worldhello wodhello worldhello worldhello worldhello worldhello worldhello worldhello worldhello worldhello world"
          ]
        }
      ]
    },
    {
      "cell_type": "code",
      "source": [],
      "metadata": {
        "id": "IdDJvMOpugm8"
      },
      "execution_count": 14,
      "outputs": []
    },
    {
      "cell_type": "markdown",
      "source": [],
      "metadata": {
        "id": "NK49I-wjp2JK"
      }
    }
  ]
}