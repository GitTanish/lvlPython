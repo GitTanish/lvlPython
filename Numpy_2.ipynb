{
  "nbformat": 4,
  "nbformat_minor": 0,
  "metadata": {
    "colab": {
      "provenance": []
    },
    "kernelspec": {
      "name": "python3",
      "display_name": "Python 3"
    },
    "language_info": {
      "name": "python"
    }
  },
  "cells": [
    {
      "cell_type": "markdown",
      "source": [
        "### Numpy array vs Python Lists"
      ],
      "metadata": {
        "id": "iMkb6myC19ve"
      }
    },
    {
      "cell_type": "code",
      "execution_count": 3,
      "metadata": {
        "colab": {
          "base_uri": "https://localhost:8080/"
        },
        "id": "pLzVc2D21C4E",
        "outputId": "08c82b3d-1e84-4afa-bf4c-3cfdb7c70a35"
      },
      "outputs": [
        {
          "output_type": "stream",
          "name": "stdout",
          "text": [
            "1.7802062034606934\n"
          ]
        }
      ],
      "source": [
        " # speed\n",
        " # list\n",
        "\n",
        "a = [i for i in range(10000000)]\n",
        "b = [i for i in range(10000000,20000000)]\n",
        "c = []\n",
        "import time\n",
        "start = time.time()\n",
        "for i in range(len(a)):\n",
        "  c.append(a[i]+b[i])\n",
        "print(time.time()-start)\n"
      ]
    },
    {
      "cell_type": "code",
      "source": [
        "# Numpy :- same code with numpy\n",
        "import numpy as np\n",
        "a = np.arange(10000000)\n",
        "b = np.arange(10000000,20000000)\n",
        "\n",
        "start = time.time()\n",
        "c = a+b\n",
        "print(time.time()-start)"
      ],
      "metadata": {
        "colab": {
          "base_uri": "https://localhost:8080/"
        },
        "id": "_Ukc43xd2TpU",
        "outputId": "2489cac7-cfda-4bac-cad3-96b8d26fe2b9"
      },
      "execution_count": 4,
      "outputs": [
        {
          "output_type": "stream",
          "name": "stdout",
          "text": [
            "0.0337681770324707\n"
          ]
        }
      ]
    },
    {
      "cell_type": "code",
      "source": [
        "# memory"
      ],
      "metadata": {
        "id": "gPt_dKFm2Tso"
      },
      "execution_count": null,
      "outputs": []
    },
    {
      "cell_type": "code",
      "source": [
        "a = [i for i in range(10000000)]\n",
        "import sys\n",
        "\n",
        "sys.getsizeof(a)\n"
      ],
      "metadata": {
        "colab": {
          "base_uri": "https://localhost:8080/"
        },
        "id": "DT7NoXgp2Tvg",
        "outputId": "580e0e0a-749b-443d-8108-f58f074b2d85"
      },
      "execution_count": 5,
      "outputs": [
        {
          "output_type": "execute_result",
          "data": {
            "text/plain": [
              "89095160"
            ]
          },
          "metadata": {},
          "execution_count": 5
        }
      ]
    },
    {
      "cell_type": "code",
      "source": [
        "a = np.arange(10000000, dtype=np.int32)\n",
        "sys.getsizeof(a)"
      ],
      "metadata": {
        "colab": {
          "base_uri": "https://localhost:8080/"
        },
        "id": "RpLNf2JD2TyY",
        "outputId": "ef5e806b-656d-4fcc-8b61-a3f637527cd6"
      },
      "execution_count": 7,
      "outputs": [
        {
          "output_type": "execute_result",
          "data": {
            "text/plain": [
              "40000112"
            ]
          },
          "metadata": {},
          "execution_count": 7
        }
      ]
    },
    {
      "cell_type": "code",
      "source": [
        "# numpy is better than built in data ypes of python\n",
        "# time efficient\n",
        "# memory efficient\n",
        "# Convinient\n"
      ],
      "metadata": {
        "id": "3-R83YBu2T1Q"
      },
      "execution_count": null,
      "outputs": []
    },
    {
      "cell_type": "code",
      "source": [],
      "metadata": {
        "id": "X79uF5Vm2T4J"
      },
      "execution_count": null,
      "outputs": []
    },
    {
      "cell_type": "code",
      "source": [],
      "metadata": {
        "id": "DmLAYqvd2T7K"
      },
      "execution_count": null,
      "outputs": []
    },
    {
      "cell_type": "code",
      "source": [],
      "metadata": {
        "id": "pvG8y3Gy2T-l"
      },
      "execution_count": null,
      "outputs": []
    }
  ]
}