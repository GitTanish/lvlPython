{
  "nbformat": 4,
  "nbformat_minor": 0,
  "metadata": {
    "colab": {
      "provenance": []
    },
    "kernelspec": {
      "name": "python3",
      "display_name": "Python 3"
    },
    "language_info": {
      "name": "python"
    }
  },
  "cells": [
    {
      "cell_type": "markdown",
      "source": [
        "### Numpy array vs Python Lists"
      ],
      "metadata": {
        "id": "iMkb6myC19ve"
      }
    },
    {
      "cell_type": "code",
      "execution_count": 1,
      "metadata": {
        "colab": {
          "base_uri": "https://localhost:8080/"
        },
        "id": "pLzVc2D21C4E",
        "outputId": "eb44cc0a-8720-4f25-d41a-fc9924426a35"
      },
      "outputs": [
        {
          "output_type": "stream",
          "name": "stdout",
          "text": [
            "4.487927198410034\n"
          ]
        }
      ],
      "source": [
        " # speed\n",
        " # list\n",
        "\n",
        "a = [i for i in range(10000000)]\n",
        "b = [i for i in range(10000000,20000000)]\n",
        "c = []\n",
        "import time\n",
        "start = time.time()\n",
        "for i in range(len(a)):\n",
        "  c.append(a[i]+b[i])\n",
        "print(time.time()-start)\n"
      ]
    },
    {
      "cell_type": "code",
      "source": [
        "# Numpy :- same code with numpy\n",
        "import numpy as np\n",
        "a = np.arange(10000000)\n",
        "b = np.arange(10000000,20000000)\n",
        "\n",
        "start = time.time()\n",
        "c = a+b\n",
        "print(time.time()-start)"
      ],
      "metadata": {
        "colab": {
          "base_uri": "https://localhost:8080/"
        },
        "id": "_Ukc43xd2TpU",
        "outputId": "4ac200bc-9328-44d6-9ae0-756b56bfaf39"
      },
      "execution_count": 2,
      "outputs": [
        {
          "output_type": "stream",
          "name": "stdout",
          "text": [
            "1.433750867843628\n"
          ]
        }
      ]
    },
    {
      "cell_type": "code",
      "source": [
        "# memory"
      ],
      "metadata": {
        "id": "gPt_dKFm2Tso"
      },
      "execution_count": 3,
      "outputs": []
    },
    {
      "cell_type": "code",
      "source": [
        "a = [i for i in range(10000000)]\n",
        "import sys\n",
        "\n",
        "sys.getsizeof(a)\n"
      ],
      "metadata": {
        "colab": {
          "base_uri": "https://localhost:8080/"
        },
        "id": "DT7NoXgp2Tvg",
        "outputId": "576c61f0-12e0-431c-be1c-287ab70939e9"
      },
      "execution_count": 4,
      "outputs": [
        {
          "output_type": "execute_result",
          "data": {
            "text/plain": [
              "89095160"
            ]
          },
          "metadata": {},
          "execution_count": 4
        }
      ]
    },
    {
      "cell_type": "code",
      "source": [
        "a = np.arange(10000000, dtype=np.int32)\n",
        "sys.getsizeof(a)"
      ],
      "metadata": {
        "colab": {
          "base_uri": "https://localhost:8080/"
        },
        "id": "RpLNf2JD2TyY",
        "outputId": "ea27fbc2-3d5b-4495-85d7-b88be9c5ea1b"
      },
      "execution_count": 5,
      "outputs": [
        {
          "output_type": "execute_result",
          "data": {
            "text/plain": [
              "40000112"
            ]
          },
          "metadata": {},
          "execution_count": 5
        }
      ]
    },
    {
      "cell_type": "code",
      "source": [
        "# numpy is better than built in data ypes of python\n",
        "# time efficient\n",
        "# memory efficient\n",
        "# Convinient\n"
      ],
      "metadata": {
        "id": "3-R83YBu2T1Q"
      },
      "execution_count": 6,
      "outputs": []
    },
    {
      "cell_type": "markdown",
      "source": [
        "### Advanced Indexing"
      ],
      "metadata": {
        "id": "n7d7ZpR4HkAJ"
      }
    },
    {
      "cell_type": "code",
      "source": [
        "# Normal Indexing and Slicing\n",
        "\n",
        "a = np.arange(24).reshape(6,4)\n",
        "a"
      ],
      "metadata": {
        "id": "X79uF5Vm2T4J",
        "colab": {
          "base_uri": "https://localhost:8080/"
        },
        "outputId": "414623c0-b6b7-420b-89d6-dadeff853bac"
      },
      "execution_count": 7,
      "outputs": [
        {
          "output_type": "execute_result",
          "data": {
            "text/plain": [
              "array([[ 0,  1,  2,  3],\n",
              "       [ 4,  5,  6,  7],\n",
              "       [ 8,  9, 10, 11],\n",
              "       [12, 13, 14, 15],\n",
              "       [16, 17, 18, 19],\n",
              "       [20, 21, 22, 23]])"
            ]
          },
          "metadata": {},
          "execution_count": 7
        }
      ]
    },
    {
      "cell_type": "code",
      "source": [
        "a[1:3,1:3]"
      ],
      "metadata": {
        "colab": {
          "base_uri": "https://localhost:8080/"
        },
        "id": "1fulw7vxILTn",
        "outputId": "bbe15c54-278e-4634-887b-a6c7cea801f5"
      },
      "execution_count": 8,
      "outputs": [
        {
          "output_type": "execute_result",
          "data": {
            "text/plain": [
              "array([[ 5,  6],\n",
              "       [ 9, 10]])"
            ]
          },
          "metadata": {},
          "execution_count": 8
        }
      ]
    },
    {
      "cell_type": "code",
      "source": [
        "# Fancy Indexing\n",
        "a[[0,2,3,5]] # row\n",
        "a[:,[0,2,3]] # column"
      ],
      "metadata": {
        "id": "DmLAYqvd2T7K",
        "colab": {
          "base_uri": "https://localhost:8080/"
        },
        "outputId": "5645da82-af6d-4c89-ba50-92b0688f7d4c"
      },
      "execution_count": 9,
      "outputs": [
        {
          "output_type": "execute_result",
          "data": {
            "text/plain": [
              "array([[ 0,  2,  3],\n",
              "       [ 4,  6,  7],\n",
              "       [ 8, 10, 11],\n",
              "       [12, 14, 15],\n",
              "       [16, 18, 19],\n",
              "       [20, 22, 23]])"
            ]
          },
          "metadata": {},
          "execution_count": 9
        }
      ]
    },
    {
      "cell_type": "code",
      "source": [
        "# Boolean Indexing\n",
        "# Super Important for both Numpy and Pandas\n",
        "import numpy as np\n",
        "a = np.random.randint(1,100,24).reshape(6,4)\n",
        "a"
      ],
      "metadata": {
        "id": "pvG8y3Gy2T-l",
        "colab": {
          "base_uri": "https://localhost:8080/"
        },
        "outputId": "86101804-1103-42bc-80b0-7cdf38001077"
      },
      "execution_count": 10,
      "outputs": [
        {
          "output_type": "execute_result",
          "data": {
            "text/plain": [
              "array([[19, 51, 60, 47],\n",
              "       [45, 79, 96, 98],\n",
              "       [33,  1, 14, 99],\n",
              "       [98, 72, 10, 80],\n",
              "       [11, 92, 33, 27],\n",
              "       [15, 90, 17, 56]])"
            ]
          },
          "metadata": {},
          "execution_count": 10
        }
      ]
    },
    {
      "cell_type": "code",
      "source": [
        "# Find all numbers greater than 50\n",
        "a > 50 # generate a boolean array according to condition\n",
        "a[a>50] # Boolean Mask"
      ],
      "metadata": {
        "colab": {
          "base_uri": "https://localhost:8080/"
        },
        "id": "DbmPhYB0KLkz",
        "outputId": "d17f77a7-783c-43cd-fcca-95a1221e1dad"
      },
      "execution_count": 11,
      "outputs": [
        {
          "output_type": "execute_result",
          "data": {
            "text/plain": [
              "array([51, 60, 79, 96, 98, 99, 98, 72, 80, 92, 90, 56])"
            ]
          },
          "metadata": {},
          "execution_count": 11
        }
      ]
    },
    {
      "cell_type": "code",
      "source": [
        "# find out even numbers\n",
        "a % 2 ==0\n",
        "a[a%2==0]"
      ],
      "metadata": {
        "colab": {
          "base_uri": "https://localhost:8080/"
        },
        "id": "BHY60f_5KLn-",
        "outputId": "a6ba854d-e365-4d06-bd07-5974c91d6b07"
      },
      "execution_count": 12,
      "outputs": [
        {
          "output_type": "execute_result",
          "data": {
            "text/plain": [
              "array([60, 96, 98, 14, 98, 72, 10, 80, 92, 90, 56])"
            ]
          },
          "metadata": {},
          "execution_count": 12
        }
      ]
    },
    {
      "cell_type": "code",
      "source": [
        "# Find all numbers greater than 50 and are even\n",
        "# bitwise & = is used to work with boolean values\n",
        "# Logical and is used for logical values\n",
        "a[(a>50) & (a % 2==0)]"
      ],
      "metadata": {
        "colab": {
          "base_uri": "https://localhost:8080/"
        },
        "id": "B-7bpGuSKLq2",
        "outputId": "328c95ff-0f99-4f31-e641-cd2182d3a92f"
      },
      "execution_count": 13,
      "outputs": [
        {
          "output_type": "execute_result",
          "data": {
            "text/plain": [
              "array([60, 96, 98, 98, 72, 80, 92, 90, 56])"
            ]
          },
          "metadata": {},
          "execution_count": 13
        }
      ]
    },
    {
      "cell_type": "code",
      "source": [
        "# find all numbers not divisible by 7\n",
        "print(a[a%7==0])\n",
        "# not\n",
        "a[~(a % 7 == 0)]"
      ],
      "metadata": {
        "colab": {
          "base_uri": "https://localhost:8080/"
        },
        "id": "a6d57bJlKLt2",
        "outputId": "ea90c976-32fd-42e7-dd51-a3963af4276e"
      },
      "execution_count": 14,
      "outputs": [
        {
          "output_type": "stream",
          "name": "stdout",
          "text": [
            "[98 14 98 56]\n"
          ]
        },
        {
          "output_type": "execute_result",
          "data": {
            "text/plain": [
              "array([19, 51, 60, 47, 45, 79, 96, 33,  1, 99, 72, 10, 80, 11, 92, 33, 27,\n",
              "       15, 90, 17])"
            ]
          },
          "metadata": {},
          "execution_count": 14
        }
      ]
    },
    {
      "cell_type": "markdown",
      "source": [
        "### Broadcasting\n",
        "\n",
        "The term broadcasting describes how NumPy treats arrays with different shapes during arithmetic operations.\n",
        "\n",
        "The smaller array is “broadcast” across the larger array so that they have compatible shapes."
      ],
      "metadata": {
        "id": "BMvCKnRMr002"
      }
    },
    {
      "cell_type": "code",
      "source": [
        "# same shape\n",
        "a = np.arange(6).reshape(2,3)\n",
        "b = np.arange(6,12).reshape(2,3)\n",
        "\n",
        "print(a)\n",
        "print(b)\n",
        "print('Itemwise addition:\\n',a+b)\n",
        "\n",
        "a = np.arange(6).reshape(2,3)\n",
        "b = np.arange(3).reshape(1,3)\n",
        "\n",
        "print(a)\n",
        "print(b)\n",
        "print(a+b)"
      ],
      "metadata": {
        "id": "yRKtZVegKLwn",
        "colab": {
          "base_uri": "https://localhost:8080/"
        },
        "outputId": "80cc26c7-46fa-445a-b16b-83ed1f926793"
      },
      "execution_count": 15,
      "outputs": [
        {
          "output_type": "stream",
          "name": "stdout",
          "text": [
            "[[0 1 2]\n",
            " [3 4 5]]\n",
            "[[ 6  7  8]\n",
            " [ 9 10 11]]\n",
            "Itemwise addition:\n",
            " [[ 6  8 10]\n",
            " [12 14 16]]\n",
            "[[0 1 2]\n",
            " [3 4 5]]\n",
            "[[0 1 2]]\n",
            "[[0 2 4]\n",
            " [3 5 7]]\n"
          ]
        }
      ]
    },
    {
      "cell_type": "markdown",
      "source": [
        "#### Broadcasting Rules\n",
        "\n",
        "**1. Make the two arrays have the same number of dimensions.**<br>\n",
        "- If the numbers of dimensions of the two arrays are different, add new dimensions with size 1 to the head of the array with the smaller dimension.<br>"
      ],
      "metadata": {
        "id": "GurerbPGwTEs"
      }
    },
    {
      "cell_type": "markdown",
      "source": [
        "**2. Make each dimension of the two arrays the same size.**<br>\n",
        "- If the sizes of each dimension of the two arrays do not match, dimensions with size 1 are stretched to the size of the other array.\n",
        "- If there is a dimension whose size is not 1 in either of the two arrays, it cannot be broadcasted, and an error is raised."
      ],
      "metadata": {
        "id": "1NkwO4gwwUB4"
      }
    },
    {
      "cell_type": "markdown",
      "source": [
        "<img src = \"https://jakevdp.github.io/PythonDataScienceHandbook/figures/02.05-broadcasting.png\">"
      ],
      "metadata": {
        "id": "tRG7EjdTwe7U"
      }
    },
    {
      "cell_type": "code",
      "source": [
        "# More examples\n",
        "\n",
        "a = np.arange(12).reshape(4,3)\n",
        "b = np.arange(3)\n",
        "\n",
        "print(a)\n",
        "print(b)\n",
        "print(a+b)"
      ],
      "metadata": {
        "id": "SWmlbWf7KLz0",
        "colab": {
          "base_uri": "https://localhost:8080/"
        },
        "outputId": "1f4b3857-d0da-49fb-9b25-6891dbdbbaeb"
      },
      "execution_count": 16,
      "outputs": [
        {
          "output_type": "stream",
          "name": "stdout",
          "text": [
            "[[ 0  1  2]\n",
            " [ 3  4  5]\n",
            " [ 6  7  8]\n",
            " [ 9 10 11]]\n",
            "[0 1 2]\n",
            "[[ 0  2  4]\n",
            " [ 3  5  7]\n",
            " [ 6  8 10]\n",
            " [ 9 11 13]]\n"
          ]
        }
      ]
    },
    {
      "cell_type": "code",
      "source": [
        "a = np.arange(12).reshape(3,4)\n",
        "b = np.arange(3)\n",
        "\n",
        "print(a)\n",
        "print(b)\n",
        "\n",
        "print(a+b)"
      ],
      "metadata": {
        "id": "cmvO5Sv8KL3W",
        "colab": {
          "base_uri": "https://localhost:8080/",
          "height": 245
        },
        "outputId": "0b23c9a8-a97d-4e30-b45d-1d45a6fe4cb8"
      },
      "execution_count": 17,
      "outputs": [
        {
          "output_type": "stream",
          "name": "stdout",
          "text": [
            "[[ 0  1  2  3]\n",
            " [ 4  5  6  7]\n",
            " [ 8  9 10 11]]\n",
            "[0 1 2]\n"
          ]
        },
        {
          "output_type": "error",
          "ename": "ValueError",
          "evalue": "operands could not be broadcast together with shapes (3,4) (3,) ",
          "traceback": [
            "\u001b[0;31m---------------------------------------------------------------------------\u001b[0m",
            "\u001b[0;31mValueError\u001b[0m                                Traceback (most recent call last)",
            "\u001b[0;32m<ipython-input-17-fa6cbb589166>\u001b[0m in \u001b[0;36m<cell line: 0>\u001b[0;34m()\u001b[0m\n\u001b[1;32m      5\u001b[0m \u001b[0mprint\u001b[0m\u001b[0;34m(\u001b[0m\u001b[0mb\u001b[0m\u001b[0;34m)\u001b[0m\u001b[0;34m\u001b[0m\u001b[0;34m\u001b[0m\u001b[0m\n\u001b[1;32m      6\u001b[0m \u001b[0;34m\u001b[0m\u001b[0m\n\u001b[0;32m----> 7\u001b[0;31m \u001b[0mprint\u001b[0m\u001b[0;34m(\u001b[0m\u001b[0ma\u001b[0m\u001b[0;34m+\u001b[0m\u001b[0mb\u001b[0m\u001b[0;34m)\u001b[0m\u001b[0;34m\u001b[0m\u001b[0;34m\u001b[0m\u001b[0m\n\u001b[0m",
            "\u001b[0;31mValueError\u001b[0m: operands could not be broadcast together with shapes (3,4) (3,) "
          ]
        }
      ]
    },
    {
      "cell_type": "code",
      "source": [
        "a = np.arange(3).reshape(1,3)\n",
        "b = np.arange(3).reshape(3,1)\n",
        "\n",
        "print(a)\n",
        "print(b)\n",
        "\n",
        "print(a+b)"
      ],
      "metadata": {
        "colab": {
          "base_uri": "https://localhost:8080/"
        },
        "id": "3roo0I6jsTcJ",
        "outputId": "95cad4f3-600d-4a30-a3de-06aea7c3106b"
      },
      "execution_count": 18,
      "outputs": [
        {
          "output_type": "stream",
          "name": "stdout",
          "text": [
            "[[0 1 2]]\n",
            "[[0]\n",
            " [1]\n",
            " [2]]\n",
            "[[0 1 2]\n",
            " [1 2 3]\n",
            " [2 3 4]]\n"
          ]
        }
      ]
    },
    {
      "cell_type": "code",
      "source": [
        "a = np.arange(3).reshape(1,3)\n",
        "b = np.arange(4).reshape(4,1)\n",
        "\n",
        "print(a)\n",
        "print(b)\n",
        "\n",
        "print(a+b)"
      ],
      "metadata": {
        "colab": {
          "base_uri": "https://localhost:8080/"
        },
        "id": "BPeOOMkisTe8",
        "outputId": "24bffa4f-bf3c-44af-f249-6b13bba31709"
      },
      "execution_count": 19,
      "outputs": [
        {
          "output_type": "stream",
          "name": "stdout",
          "text": [
            "[[0 1 2]]\n",
            "[[0]\n",
            " [1]\n",
            " [2]\n",
            " [3]]\n",
            "[[0 1 2]\n",
            " [1 2 3]\n",
            " [2 3 4]\n",
            " [3 4 5]]\n"
          ]
        }
      ]
    },
    {
      "cell_type": "code",
      "source": [
        "a = np.array([1])\n",
        "# shape -> (1,1)\n",
        "b = np.arange(4).reshape(2,2)\n",
        "# shape -> (2,2)\n",
        "\n",
        "print(a)\n",
        "print(b)\n",
        "\n",
        "print(a+b)"
      ],
      "metadata": {
        "id": "iHo2jDgesTh7"
      },
      "execution_count": null,
      "outputs": []
    },
    {
      "cell_type": "code",
      "source": [
        "a = np.arange(12).reshape(3,4)\n",
        "b = np.arange(12).reshape(4,3)\n",
        "\n",
        "print(a)\n",
        "print(b)\n",
        "\n",
        "print(a+b)"
      ],
      "metadata": {
        "colab": {
          "base_uri": "https://localhost:8080/",
          "height": 297
        },
        "id": "V-m2te1zsTlT",
        "outputId": "f93a70d6-a90a-48d1-cd5a-0db84f247da2"
      },
      "execution_count": 20,
      "outputs": [
        {
          "output_type": "stream",
          "name": "stdout",
          "text": [
            "[[ 0  1  2  3]\n",
            " [ 4  5  6  7]\n",
            " [ 8  9 10 11]]\n",
            "[[ 0  1  2]\n",
            " [ 3  4  5]\n",
            " [ 6  7  8]\n",
            " [ 9 10 11]]\n"
          ]
        },
        {
          "output_type": "error",
          "ename": "ValueError",
          "evalue": "operands could not be broadcast together with shapes (3,4) (4,3) ",
          "traceback": [
            "\u001b[0;31m---------------------------------------------------------------------------\u001b[0m",
            "\u001b[0;31mValueError\u001b[0m                                Traceback (most recent call last)",
            "\u001b[0;32m<ipython-input-20-c590a65467e5>\u001b[0m in \u001b[0;36m<cell line: 0>\u001b[0;34m()\u001b[0m\n\u001b[1;32m      5\u001b[0m \u001b[0mprint\u001b[0m\u001b[0;34m(\u001b[0m\u001b[0mb\u001b[0m\u001b[0;34m)\u001b[0m\u001b[0;34m\u001b[0m\u001b[0;34m\u001b[0m\u001b[0m\n\u001b[1;32m      6\u001b[0m \u001b[0;34m\u001b[0m\u001b[0m\n\u001b[0;32m----> 7\u001b[0;31m \u001b[0mprint\u001b[0m\u001b[0;34m(\u001b[0m\u001b[0ma\u001b[0m\u001b[0;34m+\u001b[0m\u001b[0mb\u001b[0m\u001b[0;34m)\u001b[0m\u001b[0;34m\u001b[0m\u001b[0;34m\u001b[0m\u001b[0m\n\u001b[0m",
            "\u001b[0;31mValueError\u001b[0m: operands could not be broadcast together with shapes (3,4) (4,3) "
          ]
        }
      ]
    },
    {
      "cell_type": "code",
      "source": [
        "a = np.arange(16).reshape(4,4)\n",
        "b = np.arange(4).reshape(2,2)\n",
        "\n",
        "print(a)\n",
        "print(b)\n",
        "\n",
        "print(a+b)"
      ],
      "metadata": {
        "colab": {
          "base_uri": "https://localhost:8080/",
          "height": 280
        },
        "id": "ybY-AfpR7JKt",
        "outputId": "2f0204bc-ae8e-41a4-c70a-d26680c5540e"
      },
      "execution_count": 21,
      "outputs": [
        {
          "output_type": "stream",
          "name": "stdout",
          "text": [
            "[[ 0  1  2  3]\n",
            " [ 4  5  6  7]\n",
            " [ 8  9 10 11]\n",
            " [12 13 14 15]]\n",
            "[[0 1]\n",
            " [2 3]]\n"
          ]
        },
        {
          "output_type": "error",
          "ename": "ValueError",
          "evalue": "operands could not be broadcast together with shapes (4,4) (2,2) ",
          "traceback": [
            "\u001b[0;31m---------------------------------------------------------------------------\u001b[0m",
            "\u001b[0;31mValueError\u001b[0m                                Traceback (most recent call last)",
            "\u001b[0;32m<ipython-input-21-57df50a0058a>\u001b[0m in \u001b[0;36m<cell line: 0>\u001b[0;34m()\u001b[0m\n\u001b[1;32m      5\u001b[0m \u001b[0mprint\u001b[0m\u001b[0;34m(\u001b[0m\u001b[0mb\u001b[0m\u001b[0;34m)\u001b[0m\u001b[0;34m\u001b[0m\u001b[0;34m\u001b[0m\u001b[0m\n\u001b[1;32m      6\u001b[0m \u001b[0;34m\u001b[0m\u001b[0m\n\u001b[0;32m----> 7\u001b[0;31m \u001b[0mprint\u001b[0m\u001b[0;34m(\u001b[0m\u001b[0ma\u001b[0m\u001b[0;34m+\u001b[0m\u001b[0mb\u001b[0m\u001b[0;34m)\u001b[0m\u001b[0;34m\u001b[0m\u001b[0;34m\u001b[0m\u001b[0m\n\u001b[0m",
            "\u001b[0;31mValueError\u001b[0m: operands could not be broadcast together with shapes (4,4) (2,2) "
          ]
        }
      ]
    },
    {
      "cell_type": "code",
      "source": [
        "# Broadcasting helps with vectorization"
      ],
      "metadata": {
        "id": "CSuIvRt37JVE"
      },
      "execution_count": 22,
      "outputs": []
    },
    {
      "cell_type": "markdown",
      "source": [
        "### Working with Mathematical formulas"
      ],
      "metadata": {
        "id": "QiBAG2Tz-WNL"
      }
    },
    {
      "cell_type": "code",
      "source": [
        "# sigmoid\n",
        "# mean squared error\n",
        "# categorical cross entropy"
      ],
      "metadata": {
        "id": "CteY8i_c7JYQ"
      },
      "execution_count": 24,
      "outputs": []
    },
    {
      "cell_type": "code",
      "source": [
        "a = np.arange(10)\n",
        "np.sin(a)"
      ],
      "metadata": {
        "colab": {
          "base_uri": "https://localhost:8080/"
        },
        "id": "RQpBjIr0-cOz",
        "outputId": "32095434-7d4c-4b72-a81c-376586615bfc"
      },
      "execution_count": 25,
      "outputs": [
        {
          "output_type": "execute_result",
          "data": {
            "text/plain": [
              "array([ 0.        ,  0.84147098,  0.90929743,  0.14112001, -0.7568025 ,\n",
              "       -0.95892427, -0.2794155 ,  0.6569866 ,  0.98935825,  0.41211849])"
            ]
          },
          "metadata": {},
          "execution_count": 25
        }
      ]
    },
    {
      "cell_type": "markdown",
      "source": [
        "#### Formula for sigmoid\n",
        "![image.png](data:image/png;base64,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)"
      ],
      "metadata": {
        "id": "ycC_I9lp_Qcz"
      }
    },
    {
      "cell_type": "code",
      "source": [
        "# sigmoid\n",
        "def sigmoid(array):\n",
        "  return 1/(1+np.exp(-(array)))\n",
        "\n",
        "a = np.arange(10)\n",
        "sigmoid(a)"
      ],
      "metadata": {
        "colab": {
          "base_uri": "https://localhost:8080/"
        },
        "id": "aOVBMJPa_G3N",
        "outputId": "386565d7-e70b-455b-c347-f01288142cb6"
      },
      "execution_count": 27,
      "outputs": [
        {
          "output_type": "execute_result",
          "data": {
            "text/plain": [
              "array([0.5       , 0.73105858, 0.88079708, 0.95257413, 0.98201379,\n",
              "       0.99330715, 0.99752738, 0.99908895, 0.99966465, 0.99987661])"
            ]
          },
          "metadata": {},
          "execution_count": 27
        }
      ]
    },
    {
      "cell_type": "markdown",
      "source": [
        "![image.png](data:image/png;base64,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)"
      ],
      "metadata": {
        "id": "ASkQpSFFE3Bh"
      }
    },
    {
      "cell_type": "code",
      "source": [
        "# Mean squared error\n",
        "\n",
        "actual = np.random.randint(1,50,25)\n",
        "predicted = np.random.randint(1,50,25)"
      ],
      "metadata": {
        "id": "gBHfSwOKE2hQ"
      },
      "execution_count": 28,
      "outputs": []
    },
    {
      "cell_type": "code",
      "source": [
        "predicted"
      ],
      "metadata": {
        "colab": {
          "base_uri": "https://localhost:8080/"
        },
        "id": "yYbWBioo_HEU",
        "outputId": "4675b6e4-fab0-488d-b701-2733a75e7e23"
      },
      "execution_count": 29,
      "outputs": [
        {
          "output_type": "execute_result",
          "data": {
            "text/plain": [
              "array([ 8, 45, 36,  2, 34, 30, 11, 22, 23, 35, 37,  3, 34, 48,  3, 33,  5,\n",
              "       35, 30, 44, 29, 19, 39, 25, 27])"
            ]
          },
          "metadata": {},
          "execution_count": 29
        }
      ]
    },
    {
      "cell_type": "code",
      "source": [
        "actual"
      ],
      "metadata": {
        "colab": {
          "base_uri": "https://localhost:8080/"
        },
        "id": "TwIqc0nf_HK0",
        "outputId": "ba1623e1-d86b-4de7-947f-6f80a04861a2"
      },
      "execution_count": 30,
      "outputs": [
        {
          "output_type": "execute_result",
          "data": {
            "text/plain": [
              "array([37, 39, 14,  6, 35, 22, 49, 27, 26, 21,  4, 28, 28, 27, 46, 10, 27,\n",
              "       30, 10,  6, 34, 31, 14, 20, 16])"
            ]
          },
          "metadata": {},
          "execution_count": 30
        }
      ]
    },
    {
      "cell_type": "code",
      "source": [
        "def mse(actual,predicted):\n",
        "  return np.mean((actual - predicted)**2)\n",
        "\n",
        "mse(actual, predicted)"
      ],
      "metadata": {
        "id": "B3Vhvmvg7Jbo",
        "colab": {
          "base_uri": "https://localhost:8080/"
        },
        "outputId": "23cffc4d-3fc8-4c51-cb5f-3b5570cb5b1b"
      },
      "execution_count": 32,
      "outputs": [
        {
          "output_type": "execute_result",
          "data": {
            "text/plain": [
              "439.12"
            ]
          },
          "metadata": {},
          "execution_count": 32
        }
      ]
    },
    {
      "cell_type": "code",
      "source": [
        "actual - predicted"
      ],
      "metadata": {
        "id": "XBN9dpY77JfB",
        "colab": {
          "base_uri": "https://localhost:8080/"
        },
        "outputId": "7c6b3ba2-4d1d-47ef-a6cf-9d7bfaacbb72"
      },
      "execution_count": 33,
      "outputs": [
        {
          "output_type": "execute_result",
          "data": {
            "text/plain": [
              "array([ 29,  -6, -22,   4,   1,  -8,  38,   5,   3, -14, -33,  25,  -6,\n",
              "       -21,  43, -23,  22,  -5, -20, -38,   5,  12, -25,  -5, -11])"
            ]
          },
          "metadata": {},
          "execution_count": 33
        }
      ]
    },
    {
      "cell_type": "code",
      "source": [
        "# Binary cross entropy"
      ],
      "metadata": {
        "id": "Wz5UWytPGQiA"
      },
      "execution_count": null,
      "outputs": []
    },
    {
      "cell_type": "markdown",
      "source": [
        "### Working with missing values"
      ],
      "metadata": {
        "id": "K970-ppwJ4TV"
      }
    },
    {
      "cell_type": "code",
      "source": [
        " # Working with missing values\n",
        "# np.nan = missing values\n",
        "a = np.array([1,2,3,4,np.nan,6])\n",
        "a\n",
        "\n"
      ],
      "metadata": {
        "colab": {
          "base_uri": "https://localhost:8080/"
        },
        "id": "Mz9YW0s8J3B4",
        "outputId": "45bbc6ac-f2c9-4d42-b9b6-d0d25892ae93"
      },
      "execution_count": 35,
      "outputs": [
        {
          "output_type": "execute_result",
          "data": {
            "text/plain": [
              "array([ 1.,  2.,  3.,  4., nan,  6.])"
            ]
          },
          "metadata": {},
          "execution_count": 35
        }
      ]
    },
    {
      "cell_type": "code",
      "source": [
        "a[~np.isnan(a)] # removing all the missing values"
      ],
      "metadata": {
        "colab": {
          "base_uri": "https://localhost:8080/"
        },
        "id": "PjB27wiNJ3E8",
        "outputId": "f961b6ff-88e4-4cd4-d745-5f89160852b2"
      },
      "execution_count": 39,
      "outputs": [
        {
          "output_type": "execute_result",
          "data": {
            "text/plain": [
              "array([1., 2., 3., 4., 6.])"
            ]
          },
          "metadata": {},
          "execution_count": 39
        }
      ]
    },
    {
      "cell_type": "markdown",
      "source": [
        "### Plotting Graphs"
      ],
      "metadata": {
        "id": "ys-PMHZtJ3lo"
      }
    },
    {
      "cell_type": "code",
      "source": [],
      "metadata": {
        "id": "Q3SoCFDPJ3IW"
      },
      "execution_count": null,
      "outputs": []
    },
    {
      "cell_type": "code",
      "source": [],
      "metadata": {
        "id": "Yklb_5S2J3Ls"
      },
      "execution_count": null,
      "outputs": []
    }
  ]
}