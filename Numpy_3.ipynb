{
  "nbformat": 4,
  "nbformat_minor": 0,
  "metadata": {
    "colab": {
      "provenance": []
    },
    "kernelspec": {
      "name": "python3",
      "display_name": "Python 3"
    },
    "language_info": {
      "name": "python"
    }
  },
  "cells": [
    {
      "cell_type": "markdown",
      "source": [
        "### np.sort\n",
        "\n",
        "Return a sorted copy of an array.\n",
        "\n",
        "https://numpy.org/doc/stable/reference/generated/numpy.sort.html\n",
        "\n",
        "numpy.sort(a, axis=-1, kind=None, order=None, *, stable=None)[source]\n"
      ],
      "metadata": {
        "id": "R3Xu4iPBxLuD"
      }
    },
    {
      "cell_type": "code",
      "execution_count": 15,
      "metadata": {
        "colab": {
          "base_uri": "https://localhost:8080/"
        },
        "id": "cr-J8KWNpB9W",
        "outputId": "ef6aede5-20e5-4a9d-886f-e77f669ffa47"
      },
      "outputs": [
        {
          "output_type": "execute_result",
          "data": {
            "text/plain": [
              "array([97, 96, 95, 95, 93, 72, 46, 36, 34, 33, 29, 22, 14, 12,  4])"
            ]
          },
          "metadata": {},
          "execution_count": 15
        }
      ],
      "source": [
        "# code\n",
        "import numpy as np\n",
        "a = np.random.randint(1,100,15)\n",
        "a\n",
        "a=np.sort(a) # instead of sorted() because np.sort() returns the numpy array instead of list\n",
        "np.sort(a)[::-1] # sorting in descending order"
      ]
    },
    {
      "cell_type": "code",
      "source": [
        "b = np.random.randint(1,100,24).reshape(6,4) # from 1 to 100, 24 items\n",
        "b"
      ],
      "metadata": {
        "colab": {
          "base_uri": "https://localhost:8080/"
        },
        "id": "k_m5OxpypFNm",
        "outputId": "bce469bc-4858-4bd2-c7c2-83bfe20e55b5"
      },
      "execution_count": 16,
      "outputs": [
        {
          "output_type": "execute_result",
          "data": {
            "text/plain": [
              "array([[41, 41, 21, 66],\n",
              "       [74, 61, 71, 66],\n",
              "       [13, 27, 60, 29],\n",
              "       [87, 17, 87, 81],\n",
              "       [26, 43, 62, 18],\n",
              "       [85, 99, 53, 60]])"
            ]
          },
          "metadata": {},
          "execution_count": 16
        }
      ]
    },
    {
      "cell_type": "code",
      "source": [
        "np.sort(b) # row wise sorting\n",
        "np.sort(b,axis =0) # columnwise sorting"
      ],
      "metadata": {
        "colab": {
          "base_uri": "https://localhost:8080/"
        },
        "id": "9evMnpMqpFc3",
        "outputId": "ec08e27c-60ac-4296-de8f-667fbf1831ac"
      },
      "execution_count": 17,
      "outputs": [
        {
          "output_type": "execute_result",
          "data": {
            "text/plain": [
              "array([[13, 17, 21, 18],\n",
              "       [26, 27, 53, 29],\n",
              "       [41, 41, 60, 60],\n",
              "       [74, 43, 62, 66],\n",
              "       [85, 61, 71, 66],\n",
              "       [87, 99, 87, 81]])"
            ]
          },
          "metadata": {},
          "execution_count": 17
        }
      ]
    },
    {
      "cell_type": "markdown",
      "source": [
        "### np.append\n",
        "\n",
        "The numpy.append() appends values along the mentioned axis at the end of the array\n",
        "\n",
        "https://numpy.org/doc/stable/reference/generated/numpy.append.html"
      ],
      "metadata": {
        "id": "9G6xxi6HyNR0"
      }
    },
    {
      "cell_type": "code",
      "source": [
        "# code\n",
        "np.append(a,200)"
      ],
      "metadata": {
        "colab": {
          "base_uri": "https://localhost:8080/"
        },
        "id": "4OHNcbUVyIY3",
        "outputId": "a77d936a-45cb-49c7-e931-f7235a7c443f"
      },
      "execution_count": 18,
      "outputs": [
        {
          "output_type": "execute_result",
          "data": {
            "text/plain": [
              "array([  4,  12,  14,  22,  29,  33,  34,  36,  46,  72,  93,  95,  95,\n",
              "        96,  97, 200])"
            ]
          },
          "metadata": {},
          "execution_count": 18
        }
      ]
    },
    {
      "cell_type": "code",
      "source": [
        "b"
      ],
      "metadata": {
        "colab": {
          "base_uri": "https://localhost:8080/"
        },
        "id": "cJThrfwZyIjy",
        "outputId": "f1905fa6-ccc7-4daa-c1e3-16c7d1702e4a"
      },
      "execution_count": 19,
      "outputs": [
        {
          "output_type": "execute_result",
          "data": {
            "text/plain": [
              "array([[41, 41, 21, 66],\n",
              "       [74, 61, 71, 66],\n",
              "       [13, 27, 60, 29],\n",
              "       [87, 17, 87, 81],\n",
              "       [26, 43, 62, 18],\n",
              "       [85, 99, 53, 60]])"
            ]
          },
          "metadata": {},
          "execution_count": 19
        }
      ]
    },
    {
      "cell_type": "code",
      "source": [
        "np.append(b,np.ones((b.shape[0],1)),axis=1)"
      ],
      "metadata": {
        "colab": {
          "base_uri": "https://localhost:8080/"
        },
        "id": "6-6NIdgFypu2",
        "outputId": "0a13fea2-0eb3-465c-b9a2-12f22dd3f91e"
      },
      "execution_count": 20,
      "outputs": [
        {
          "output_type": "execute_result",
          "data": {
            "text/plain": [
              "array([[41., 41., 21., 66.,  1.],\n",
              "       [74., 61., 71., 66.,  1.],\n",
              "       [13., 27., 60., 29.,  1.],\n",
              "       [87., 17., 87., 81.,  1.],\n",
              "       [26., 43., 62., 18.,  1.],\n",
              "       [85., 99., 53., 60.,  1.]])"
            ]
          },
          "metadata": {},
          "execution_count": 20
        }
      ]
    },
    {
      "cell_type": "code",
      "source": [
        "np.append(b,np.random.random((b.shape[0],1)),axis=1)"
      ],
      "metadata": {
        "colab": {
          "base_uri": "https://localhost:8080/"
        },
        "id": "IPvbmwcg06yr",
        "outputId": "777c5d8e-1309-42bb-9db8-77becd25d5a9"
      },
      "execution_count": 21,
      "outputs": [
        {
          "output_type": "execute_result",
          "data": {
            "text/plain": [
              "array([[4.10000000e+01, 4.10000000e+01, 2.10000000e+01, 6.60000000e+01,\n",
              "        9.17420824e-01],\n",
              "       [7.40000000e+01, 6.10000000e+01, 7.10000000e+01, 6.60000000e+01,\n",
              "        1.15088091e-02],\n",
              "       [1.30000000e+01, 2.70000000e+01, 6.00000000e+01, 2.90000000e+01,\n",
              "        2.04014955e-01],\n",
              "       [8.70000000e+01, 1.70000000e+01, 8.70000000e+01, 8.10000000e+01,\n",
              "        4.89428245e-03],\n",
              "       [2.60000000e+01, 4.30000000e+01, 6.20000000e+01, 1.80000000e+01,\n",
              "        4.45683102e-02],\n",
              "       [8.50000000e+01, 9.90000000e+01, 5.30000000e+01, 6.00000000e+01,\n",
              "        6.10141964e-01]])"
            ]
          },
          "metadata": {},
          "execution_count": 21
        }
      ]
    },
    {
      "cell_type": "markdown",
      "source": [
        "### np.concatenate\n",
        "\n",
        "numpy.concatenate() function concatenate a sequence of arrays along an existing axis.\n",
        "\n",
        "https://numpy.org/doc/stable/reference/generated/numpy.concatenate.html"
      ],
      "metadata": {
        "id": "a_RceDhO1HnB"
      }
    },
    {
      "cell_type": "code",
      "source": [
        "# code\n",
        "# concetenate is generally used with tabular data i.e 2d array\n",
        "c = np.arange(6).reshape(2,3)\n",
        "d = np.arange(6,12).reshape(2,3)\n",
        "\n",
        "print(c)\n",
        "print(d)"
      ],
      "metadata": {
        "colab": {
          "base_uri": "https://localhost:8080/"
        },
        "id": "oqbsRj9P1N0-",
        "outputId": "8b7c189f-36b3-4baa-9e4b-51be3e79b70b"
      },
      "execution_count": 22,
      "outputs": [
        {
          "output_type": "stream",
          "name": "stdout",
          "text": [
            "[[0 1 2]\n",
            " [3 4 5]]\n",
            "[[ 6  7  8]\n",
            " [ 9 10 11]]\n"
          ]
        }
      ]
    },
    {
      "cell_type": "code",
      "source": [
        "np.concatenate((c,d),axis=0) # row wise concatenate\n",
        "np.concatenate((c,d),axis=1) # column wise concatenate"
      ],
      "metadata": {
        "colab": {
          "base_uri": "https://localhost:8080/"
        },
        "id": "nJ_bspRE1ODY",
        "outputId": "052e0c94-85c9-41b2-fe62-086e8bc2e340"
      },
      "execution_count": 23,
      "outputs": [
        {
          "output_type": "execute_result",
          "data": {
            "text/plain": [
              "array([[ 0,  1,  2,  6,  7,  8],\n",
              "       [ 3,  4,  5,  9, 10, 11]])"
            ]
          },
          "metadata": {},
          "execution_count": 23
        }
      ]
    },
    {
      "cell_type": "markdown",
      "source": [
        "### np.unique\n",
        "\n",
        "With the help of np.unique() method, we can get the unique values from an array given as parameter in np.unique() method.\n",
        "\n",
        "https://numpy.org/doc/stable/reference/generated/numpy.unique.html/"
      ],
      "metadata": {
        "id": "_U0Qo-Ct2Z4f"
      }
    },
    {
      "cell_type": "code",
      "source": [
        "# code\n",
        "e = np.array([1,1,2,2,3,3,4,4,5,5,6,6])\n",
        "f = np.array([[1,2,3,1],[1,2,3,2]])\n",
        "print(e)\n",
        "print(f)"
      ],
      "metadata": {
        "colab": {
          "base_uri": "https://localhost:8080/"
        },
        "id": "Z9R8aU2n2dt9",
        "outputId": "b5e8aebf-9cc8-4e03-b492-8427fa9e86a5"
      },
      "execution_count": 24,
      "outputs": [
        {
          "output_type": "stream",
          "name": "stdout",
          "text": [
            "[1 1 2 2 3 3 4 4 5 5 6 6]\n",
            "[[1 2 3 1]\n",
            " [1 2 3 2]]\n"
          ]
        }
      ]
    },
    {
      "cell_type": "code",
      "source": [
        "np.unique(f)\n",
        "np.unique(e)"
      ],
      "metadata": {
        "colab": {
          "base_uri": "https://localhost:8080/"
        },
        "id": "m4nVBhP02d5n",
        "outputId": "00771527-44fc-44b8-d1a4-fb1a3d152aa6"
      },
      "execution_count": 25,
      "outputs": [
        {
          "output_type": "execute_result",
          "data": {
            "text/plain": [
              "array([1, 2, 3, 4, 5, 6])"
            ]
          },
          "metadata": {},
          "execution_count": 25
        }
      ]
    },
    {
      "cell_type": "markdown",
      "source": [
        "### np.expand_dims\n",
        "\n",
        "With the help of Numpy.expand_dims() method, we can get the expanded dimensions of an array\n",
        "\n",
        "https://numpy.org/doc/stable/reference/generated/numpy.expand_dims.html"
      ],
      "metadata": {
        "id": "av7xPbmAG2GI"
      }
    },
    {
      "cell_type": "code",
      "source": [
        "# code\n",
        "# EXPAND DIMENSIONS 1d to 2d, 2d to 3d, 3d to 4d\n",
        "a\n"
      ],
      "metadata": {
        "colab": {
          "base_uri": "https://localhost:8080/"
        },
        "id": "NB8-ZwEdG3m0",
        "outputId": "0a54e9a4-8164-4745-b966-17ff25865d01"
      },
      "execution_count": 26,
      "outputs": [
        {
          "output_type": "execute_result",
          "data": {
            "text/plain": [
              "array([ 4, 12, 14, 22, 29, 33, 34, 36, 46, 72, 93, 95, 95, 96, 97])"
            ]
          },
          "metadata": {},
          "execution_count": 26
        }
      ]
    },
    {
      "cell_type": "code",
      "source": [
        "np.expand_dims(a,axis=0)\n",
        "np.expand_dims(a,axis=1)"
      ],
      "metadata": {
        "colab": {
          "base_uri": "https://localhost:8080/"
        },
        "id": "lD6lGHB_HYDv",
        "outputId": "f3a74c24-6b7e-4f55-f2d5-b661323c046f"
      },
      "execution_count": 27,
      "outputs": [
        {
          "output_type": "execute_result",
          "data": {
            "text/plain": [
              "array([[ 4],\n",
              "       [12],\n",
              "       [14],\n",
              "       [22],\n",
              "       [29],\n",
              "       [33],\n",
              "       [34],\n",
              "       [36],\n",
              "       [46],\n",
              "       [72],\n",
              "       [93],\n",
              "       [95],\n",
              "       [95],\n",
              "       [96],\n",
              "       [97]])"
            ]
          },
          "metadata": {},
          "execution_count": 27
        }
      ]
    },
    {
      "cell_type": "markdown",
      "source": [
        "### np.where\n",
        "\n",
        "The numpy.where() function returns the indices of elements in an input array where the given condition is satisfied.\n",
        "\n",
        "https://numpy.org/doc/stable/reference/generated/numpy.where.html"
      ],
      "metadata": {
        "id": "6NtSTtaiIHRs"
      }
    },
    {
      "cell_type": "code",
      "source": [
        "a"
      ],
      "metadata": {
        "colab": {
          "base_uri": "https://localhost:8080/"
        },
        "id": "5eDMsvoWPpN2",
        "outputId": "c1f7e7d4-0940-40f1-83d0-8f9224b3ed7d"
      },
      "execution_count": 28,
      "outputs": [
        {
          "output_type": "execute_result",
          "data": {
            "text/plain": [
              "array([ 4, 12, 14, 22, 29, 33, 34, 36, 46, 72, 93, 95, 95, 96, 97])"
            ]
          },
          "metadata": {},
          "execution_count": 28
        }
      ]
    },
    {
      "cell_type": "code",
      "source": [
        "# find all indices with value greater than 50\n",
        "np.where(a>50) # index position"
      ],
      "metadata": {
        "colab": {
          "base_uri": "https://localhost:8080/"
        },
        "id": "XMt0MrjyPpcT",
        "outputId": "16e6966c-b45f-49a2-c6c8-3bf6741de632"
      },
      "execution_count": 29,
      "outputs": [
        {
          "output_type": "execute_result",
          "data": {
            "text/plain": [
              "(array([ 9, 10, 11, 12, 13, 14]),)"
            ]
          },
          "metadata": {},
          "execution_count": 29
        }
      ]
    },
    {
      "cell_type": "code",
      "source": [
        "# replace all values > 50 with 0\n",
        "# np.where(condition,True,False)\n",
        "np.where(a>50,0,a)"
      ],
      "metadata": {
        "colab": {
          "base_uri": "https://localhost:8080/"
        },
        "id": "d1qltkfHQcta",
        "outputId": "6006951b-af2e-4cad-f7aa-f14969ae37d8"
      },
      "execution_count": 30,
      "outputs": [
        {
          "output_type": "execute_result",
          "data": {
            "text/plain": [
              "array([ 4, 12, 14, 22, 29, 33, 34, 36, 46,  0,  0,  0,  0,  0,  0])"
            ]
          },
          "metadata": {},
          "execution_count": 30
        }
      ]
    },
    {
      "cell_type": "code",
      "source": [
        "# replace even by 0s\n",
        "np.where(a%2==0,0,a)"
      ],
      "metadata": {
        "colab": {
          "base_uri": "https://localhost:8080/"
        },
        "id": "oiqTQ5ZKPplk",
        "outputId": "d2139c89-6b3f-4486-d36e-caca58ac3096"
      },
      "execution_count": 32,
      "outputs": [
        {
          "output_type": "execute_result",
          "data": {
            "text/plain": [
              "array([ 0,  0,  0,  0, 29, 33,  0,  0,  0,  0, 93, 95, 95,  0, 97])"
            ]
          },
          "metadata": {},
          "execution_count": 32
        }
      ]
    },
    {
      "cell_type": "markdown",
      "source": [
        "### np.argmax\n",
        "\n",
        "The numpy.argmax() function returns indices of the max element of the array in a particular axis.\n",
        "\n",
        "https://numpy.org/doc/stable/reference/generated/numpy.argmax.html"
      ],
      "metadata": {
        "id": "Fk8tHK4QRcOT"
      }
    },
    {
      "cell_type": "code",
      "source": [
        "a"
      ],
      "metadata": {
        "colab": {
          "base_uri": "https://localhost:8080/"
        },
        "id": "lX1QGrQ3Rgc-",
        "outputId": "863ff28f-9219-4604-e8f9-8a58c843edb6"
      },
      "execution_count": 33,
      "outputs": [
        {
          "output_type": "execute_result",
          "data": {
            "text/plain": [
              "array([ 4, 12, 14, 22, 29, 33, 34, 36, 46, 72, 93, 95, 95, 96, 97])"
            ]
          },
          "metadata": {},
          "execution_count": 33
        }
      ]
    },
    {
      "cell_type": "code",
      "source": [
        "np.argmax(a)"
      ],
      "metadata": {
        "colab": {
          "base_uri": "https://localhost:8080/"
        },
        "id": "aow1zR97RggM",
        "outputId": "b718945e-5869-48b7-f25e-9fd9504719c1"
      },
      "execution_count": 34,
      "outputs": [
        {
          "output_type": "execute_result",
          "data": {
            "text/plain": [
              "14"
            ]
          },
          "metadata": {},
          "execution_count": 34
        }
      ]
    },
    {
      "cell_type": "code",
      "source": [
        "np.argmax(b,axis =1) # axis=1(row), axis=0(column)"
      ],
      "metadata": {
        "colab": {
          "base_uri": "https://localhost:8080/"
        },
        "id": "A8eb-AcyRgjV",
        "outputId": "52472e51-5943-4811-afa2-8ff674367a92"
      },
      "execution_count": 37,
      "outputs": [
        {
          "output_type": "execute_result",
          "data": {
            "text/plain": [
              "array([3, 0, 2, 0, 2, 1])"
            ]
          },
          "metadata": {},
          "execution_count": 37
        }
      ]
    },
    {
      "cell_type": "code",
      "source": [
        "print(b)"
      ],
      "metadata": {
        "colab": {
          "base_uri": "https://localhost:8080/"
        },
        "id": "UthtqZalRgmT",
        "outputId": "ab677fb9-a1b0-46b2-deb9-4f5ad176ba28"
      },
      "execution_count": 36,
      "outputs": [
        {
          "output_type": "stream",
          "name": "stdout",
          "text": [
            "[[41 41 21 66]\n",
            " [74 61 71 66]\n",
            " [13 27 60 29]\n",
            " [87 17 87 81]\n",
            " [26 43 62 18]\n",
            " [85 99 53 60]]\n"
          ]
        }
      ]
    },
    {
      "cell_type": "code",
      "source": [
        "# np.argmin\n",
        "np.argmin(a)\n",
        "print(np.argmin(b,axis=0))"
      ],
      "metadata": {
        "colab": {
          "base_uri": "https://localhost:8080/"
        },
        "id": "3GHJcv8aRgpO",
        "outputId": "a2a48eea-f7e0-435d-f68a-bfe68af7ab02"
      },
      "execution_count": 40,
      "outputs": [
        {
          "output_type": "stream",
          "name": "stdout",
          "text": [
            "[2 3 0 4]\n"
          ]
        }
      ]
    },
    {
      "cell_type": "markdown",
      "source": [
        "### np.cumsum\n",
        "\n",
        "numpy.cumsum() function is used when we want to compute the cumulative sum of array elements over a given axis.\n",
        "\n",
        "https://numpy.org/doc/stable/reference/generated/numpy.cumsum.html"
      ],
      "metadata": {
        "id": "tP4bx7wuS7GD"
      }
    },
    {
      "cell_type": "code",
      "source": [
        "np.cumsum(a)"
      ],
      "metadata": {
        "colab": {
          "base_uri": "https://localhost:8080/"
        },
        "id": "cyUysihYRgrx",
        "outputId": "75cab345-d9d5-4a06-be3f-22cffb480f39"
      },
      "execution_count": 41,
      "outputs": [
        {
          "output_type": "execute_result",
          "data": {
            "text/plain": [
              "array([  4,  16,  30,  52,  81, 114, 148, 184, 230, 302, 395, 490, 585,\n",
              "       681, 778])"
            ]
          },
          "metadata": {},
          "execution_count": 41
        }
      ]
    },
    {
      "cell_type": "code",
      "source": [
        "np.cumsum(b,axis=0)"
      ],
      "metadata": {
        "colab": {
          "base_uri": "https://localhost:8080/"
        },
        "id": "cetEiHa_Rgu0",
        "outputId": "ee4a9423-7068-428f-e636-63f07af1c338"
      },
      "execution_count": 42,
      "outputs": [
        {
          "output_type": "execute_result",
          "data": {
            "text/plain": [
              "array([[ 41,  41,  21,  66],\n",
              "       [115, 102,  92, 132],\n",
              "       [128, 129, 152, 161],\n",
              "       [215, 146, 239, 242],\n",
              "       [241, 189, 301, 260],\n",
              "       [326, 288, 354, 320]])"
            ]
          },
          "metadata": {},
          "execution_count": 42
        }
      ]
    },
    {
      "cell_type": "code",
      "source": [
        "# np.cumprod # works same as cummilative sum but it multiplies"
      ],
      "metadata": {
        "id": "ClSzDM-TRgyN"
      },
      "execution_count": null,
      "outputs": []
    },
    {
      "cell_type": "code",
      "source": [
        "np.cumprod(a)"
      ],
      "metadata": {
        "colab": {
          "base_uri": "https://localhost:8080/"
        },
        "id": "O2ffoo4NVOFR",
        "outputId": "f23a3e4b-0a94-4895-a704-93741adbe70a"
      },
      "execution_count": 43,
      "outputs": [
        {
          "output_type": "execute_result",
          "data": {
            "text/plain": [
              "array([                   4,                   48,                  672,\n",
              "                      14784,               428736,             14148288,\n",
              "                  481041792,          17317504512,         796605207552,\n",
              "             57355574943744,     5334068469768192,   506736504627978240,\n",
              "       -7200264281470722048, -8695840293935906816,  5053718878856413184])"
            ]
          },
          "metadata": {},
          "execution_count": 43
        }
      ]
    },
    {
      "cell_type": "markdown",
      "source": [
        "### np.percentile\n",
        "\n",
        "numpy.percentile()function used to compute the nth percentile of the given data (array elements) along the specified axis.\n",
        "\n",
        "https://numpy.org/doc/stable/reference/generated/numpy.percentile.html"
      ],
      "metadata": {
        "id": "B3PslQNKViYc"
      }
    },
    {
      "cell_type": "code",
      "source": [
        "np.percentile(a,50)"
      ],
      "metadata": {
        "colab": {
          "base_uri": "https://localhost:8080/"
        },
        "id": "6WgdVkAWVpCK",
        "outputId": "db615b20-867e-4012-82d4-eeeaee90a7fb"
      },
      "execution_count": 47,
      "outputs": [
        {
          "output_type": "execute_result",
          "data": {
            "text/plain": [
              "36.0"
            ]
          },
          "metadata": {},
          "execution_count": 47
        }
      ]
    },
    {
      "cell_type": "code",
      "source": [
        "np.median(a)"
      ],
      "metadata": {
        "colab": {
          "base_uri": "https://localhost:8080/"
        },
        "id": "sJ_mBM2YVpQB",
        "outputId": "9666e6b7-6290-466b-cf57-c670ac8e4569"
      },
      "execution_count": 46,
      "outputs": [
        {
          "output_type": "execute_result",
          "data": {
            "text/plain": [
              "36.0"
            ]
          },
          "metadata": {},
          "execution_count": 46
        }
      ]
    },
    {
      "cell_type": "markdown",
      "source": [
        "### np.histogram\n",
        "\n",
        "Numpy has a built-in numpy.histogram() function which represents the frequency of data distribution in the graphical form.\n",
        "\n",
        "https://numpy.org/doc/stable/reference/generated/numpy.histogram.html"
      ],
      "metadata": {
        "id": "kR-WRL3AYwQP"
      }
    },
    {
      "cell_type": "code",
      "source": [
        "a"
      ],
      "metadata": {
        "colab": {
          "base_uri": "https://localhost:8080/"
        },
        "id": "toShoJH0Yz7t",
        "outputId": "c8e981c4-e3e3-4578-84ad-f19294d571e0"
      },
      "execution_count": 48,
      "outputs": [
        {
          "output_type": "execute_result",
          "data": {
            "text/plain": [
              "array([ 4, 12, 14, 22, 29, 33, 34, 36, 46, 72, 93, 95, 95, 96, 97])"
            ]
          },
          "metadata": {},
          "execution_count": 48
        }
      ]
    },
    {
      "cell_type": "code",
      "source": [
        "np.histogram(a,bins=[0,10,20,30,40,50,60,70,80,90,100])"
      ],
      "metadata": {
        "colab": {
          "base_uri": "https://localhost:8080/"
        },
        "id": "e5sCJHI-Y0V4",
        "outputId": "b1ca822a-5e21-4ff2-d7f3-d1405cc605f1"
      },
      "execution_count": 50,
      "outputs": [
        {
          "output_type": "execute_result",
          "data": {
            "text/plain": [
              "(array([1, 2, 2, 3, 1, 0, 0, 1, 0, 5]),\n",
              " array([  0,  10,  20,  30,  40,  50,  60,  70,  80,  90, 100]))"
            ]
          },
          "metadata": {},
          "execution_count": 50
        }
      ]
    },
    {
      "cell_type": "code",
      "source": [
        "np.histogram(a,bins=[0,50,100])"
      ],
      "metadata": {
        "colab": {
          "base_uri": "https://localhost:8080/"
        },
        "id": "jI6hqbP-ZifC",
        "outputId": "982bb339-0d5e-4944-b4ef-999a031377e3"
      },
      "execution_count": 51,
      "outputs": [
        {
          "output_type": "execute_result",
          "data": {
            "text/plain": [
              "(array([9, 6]), array([  0,  50, 100]))"
            ]
          },
          "metadata": {},
          "execution_count": 51
        }
      ]
    },
    {
      "cell_type": "code",
      "source": [],
      "metadata": {
        "id": "VnpmkuaeZo5l"
      },
      "execution_count": null,
      "outputs": []
    }
  ]
}