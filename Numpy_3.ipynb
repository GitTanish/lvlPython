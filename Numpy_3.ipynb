{
  "nbformat": 4,
  "nbformat_minor": 0,
  "metadata": {
    "colab": {
      "provenance": []
    },
    "kernelspec": {
      "name": "python3",
      "display_name": "Python 3"
    },
    "language_info": {
      "name": "python"
    }
  },
  "cells": [
    {
      "cell_type": "markdown",
      "source": [
        "### np.sort\n",
        "\n",
        "Return a sorted copy of an array.\n",
        "\n",
        "https://numpy.org/doc/stable/reference/generated/numpy.sort.html\n",
        "\n",
        "numpy.sort(a, axis=-1, kind=None, order=None, *, stable=None)[source]\n"
      ],
      "metadata": {
        "id": "R3Xu4iPBxLuD"
      }
    },
    {
      "cell_type": "code",
      "execution_count": 10,
      "metadata": {
        "colab": {
          "base_uri": "https://localhost:8080/"
        },
        "id": "cr-J8KWNpB9W",
        "outputId": "3a1b7af8-3584-42cf-de34-6908308ed28a"
      },
      "outputs": [
        {
          "output_type": "execute_result",
          "data": {
            "text/plain": [
              "array([97, 96, 94, 85, 80, 73, 72, 68, 66, 63, 61, 57, 56, 21, 20])"
            ]
          },
          "metadata": {},
          "execution_count": 10
        }
      ],
      "source": [
        "# code\n",
        "import numpy as np\n",
        "a = np.random.randint(1,100,15)\n",
        "a\n",
        "a=np.sort(a) # instead of sorted() because np.sort() returns the numpy array instead of list\n",
        "np.sort(a)[::-1] # sorting in descending order"
      ]
    },
    {
      "cell_type": "code",
      "source": [
        "b = np.random.randint(1,100,24).reshape(6,4) # from 1 to 100, 24 items\n",
        "b"
      ],
      "metadata": {
        "colab": {
          "base_uri": "https://localhost:8080/"
        },
        "id": "k_m5OxpypFNm",
        "outputId": "7400f253-0396-4197-ac0a-badfc614563c"
      },
      "execution_count": 4,
      "outputs": [
        {
          "output_type": "execute_result",
          "data": {
            "text/plain": [
              "array([[52,  6, 30, 61],\n",
              "       [26, 80, 49, 43],\n",
              "       [69,  3, 40, 26],\n",
              "       [57, 82, 72, 77],\n",
              "       [18,  3, 22, 31],\n",
              "       [68, 25, 22, 78]])"
            ]
          },
          "metadata": {},
          "execution_count": 4
        }
      ]
    },
    {
      "cell_type": "code",
      "source": [
        "np.sort(b) # row wise sorting\n",
        "np.sort(b,axis =0) # columnwise sorting"
      ],
      "metadata": {
        "colab": {
          "base_uri": "https://localhost:8080/"
        },
        "id": "9evMnpMqpFc3",
        "outputId": "fe726c39-180e-4385-fc7e-fd8e02b1bb39"
      },
      "execution_count": 5,
      "outputs": [
        {
          "output_type": "execute_result",
          "data": {
            "text/plain": [
              "array([[ 6, 30, 52, 61],\n",
              "       [26, 43, 49, 80],\n",
              "       [ 3, 26, 40, 69],\n",
              "       [57, 72, 77, 82],\n",
              "       [ 3, 18, 22, 31],\n",
              "       [22, 25, 68, 78]])"
            ]
          },
          "metadata": {},
          "execution_count": 5
        }
      ]
    },
    {
      "cell_type": "markdown",
      "source": [
        "### np.append\n",
        "\n",
        "The numpy.append() appends values along the mentioned axis at the end of the array\n",
        "\n",
        "https://numpy.org/doc/stable/reference/generated/numpy.append.html"
      ],
      "metadata": {
        "id": "9G6xxi6HyNR0"
      }
    },
    {
      "cell_type": "code",
      "source": [
        "# code\n",
        "np.append(a,200)"
      ],
      "metadata": {
        "colab": {
          "base_uri": "https://localhost:8080/"
        },
        "id": "4OHNcbUVyIY3",
        "outputId": "1809594c-6c81-41e8-82c6-19da280145aa"
      },
      "execution_count": 11,
      "outputs": [
        {
          "output_type": "execute_result",
          "data": {
            "text/plain": [
              "array([ 20,  21,  56,  57,  61,  63,  66,  68,  72,  73,  80,  85,  94,\n",
              "        96,  97, 200])"
            ]
          },
          "metadata": {},
          "execution_count": 11
        }
      ]
    },
    {
      "cell_type": "code",
      "source": [
        "b"
      ],
      "metadata": {
        "colab": {
          "base_uri": "https://localhost:8080/"
        },
        "id": "cJThrfwZyIjy",
        "outputId": "6b9ae48b-a708-4683-b333-1dd2f0d44c41"
      },
      "execution_count": 12,
      "outputs": [
        {
          "output_type": "execute_result",
          "data": {
            "text/plain": [
              "array([[52,  6, 30, 61],\n",
              "       [26, 80, 49, 43],\n",
              "       [69,  3, 40, 26],\n",
              "       [57, 82, 72, 77],\n",
              "       [18,  3, 22, 31],\n",
              "       [68, 25, 22, 78]])"
            ]
          },
          "metadata": {},
          "execution_count": 12
        }
      ]
    },
    {
      "cell_type": "code",
      "source": [
        "np.append(b,np.ones((b.shape[0],1)),axis=1)"
      ],
      "metadata": {
        "colab": {
          "base_uri": "https://localhost:8080/"
        },
        "id": "6-6NIdgFypu2",
        "outputId": "2c811b2d-7cb6-4d24-e448-10dc05f0c0cf"
      },
      "execution_count": 14,
      "outputs": [
        {
          "output_type": "execute_result",
          "data": {
            "text/plain": [
              "array([[52.,  6., 30., 61.,  1.],\n",
              "       [26., 80., 49., 43.,  1.],\n",
              "       [69.,  3., 40., 26.,  1.],\n",
              "       [57., 82., 72., 77.,  1.],\n",
              "       [18.,  3., 22., 31.,  1.],\n",
              "       [68., 25., 22., 78.,  1.]])"
            ]
          },
          "metadata": {},
          "execution_count": 14
        }
      ]
    },
    {
      "cell_type": "code",
      "source": [
        "np.append(b,np.random.random((b.shape[0],1)),axis=1)"
      ],
      "metadata": {
        "colab": {
          "base_uri": "https://localhost:8080/"
        },
        "id": "IPvbmwcg06yr",
        "outputId": "362223c3-9709-433f-e04f-240c3673c297"
      },
      "execution_count": 15,
      "outputs": [
        {
          "output_type": "execute_result",
          "data": {
            "text/plain": [
              "array([[52.        ,  6.        , 30.        , 61.        ,  0.91943215],\n",
              "       [26.        , 80.        , 49.        , 43.        ,  0.4766179 ],\n",
              "       [69.        ,  3.        , 40.        , 26.        ,  0.26620461],\n",
              "       [57.        , 82.        , 72.        , 77.        ,  0.33847845],\n",
              "       [18.        ,  3.        , 22.        , 31.        ,  0.73819957],\n",
              "       [68.        , 25.        , 22.        , 78.        ,  0.53744736]])"
            ]
          },
          "metadata": {},
          "execution_count": 15
        }
      ]
    },
    {
      "cell_type": "markdown",
      "source": [
        "### np.concatenate\n",
        "\n",
        "numpy.concatenate() function concatenate a sequence of arrays along an existing axis.\n",
        "\n",
        "https://numpy.org/doc/stable/reference/generated/numpy.concatenate.html"
      ],
      "metadata": {
        "id": "a_RceDhO1HnB"
      }
    },
    {
      "cell_type": "code",
      "source": [
        "# code\n",
        "# concetenate is generally used with tabular data i.e 2d array\n",
        "c = np.arange(6).reshape(2,3)\n",
        "d = np.arange(6,12).reshape(2,3)\n",
        "\n",
        "print(c)\n",
        "print(d)"
      ],
      "metadata": {
        "colab": {
          "base_uri": "https://localhost:8080/"
        },
        "id": "oqbsRj9P1N0-",
        "outputId": "23653756-7546-4f57-894d-12e7d0800671"
      },
      "execution_count": 16,
      "outputs": [
        {
          "output_type": "stream",
          "name": "stdout",
          "text": [
            "[[0 1 2]\n",
            " [3 4 5]]\n",
            "[[ 6  7  8]\n",
            " [ 9 10 11]]\n"
          ]
        }
      ]
    },
    {
      "cell_type": "code",
      "source": [
        "np.concatenate((c,d),axis=0) # row wise concatenate\n",
        "np.concatenate((c,d),axis=1) # column wise concatenate"
      ],
      "metadata": {
        "colab": {
          "base_uri": "https://localhost:8080/"
        },
        "id": "nJ_bspRE1ODY",
        "outputId": "c0e4fa71-feae-4a6d-dcd3-ff308c37e6eb"
      },
      "execution_count": 17,
      "outputs": [
        {
          "output_type": "execute_result",
          "data": {
            "text/plain": [
              "array([[ 0,  1,  2],\n",
              "       [ 3,  4,  5],\n",
              "       [ 6,  7,  8],\n",
              "       [ 9, 10, 11]])"
            ]
          },
          "metadata": {},
          "execution_count": 17
        }
      ]
    },
    {
      "cell_type": "markdown",
      "source": [
        "### np.unique\n",
        "\n",
        "With the help of np.unique() method, we can get the unique values from an array given as parameter in np.unique() method.\n",
        "\n",
        "https://numpy.org/doc/stable/reference/generated/numpy.unique.html/"
      ],
      "metadata": {
        "id": "_U0Qo-Ct2Z4f"
      }
    },
    {
      "cell_type": "code",
      "source": [
        "# code\n",
        "e = np.array([1,1,2,2,3,3,4,4,5,5,6,6])\n",
        "f = np.array([[1,2,3,1],[1,2,3,2]])\n",
        "print(e)\n",
        "print(f)"
      ],
      "metadata": {
        "colab": {
          "base_uri": "https://localhost:8080/"
        },
        "id": "Z9R8aU2n2dt9",
        "outputId": "2c72332a-ace4-45ca-8380-e9572e56165c"
      },
      "execution_count": 19,
      "outputs": [
        {
          "output_type": "stream",
          "name": "stdout",
          "text": [
            "[1 1 2 2 3 3 4 4 5 5 6 6]\n",
            "[[1 2 3 1]\n",
            " [1 2 3 2]]\n"
          ]
        }
      ]
    },
    {
      "cell_type": "code",
      "source": [
        "np.unique(f)\n",
        "np.unique(e)"
      ],
      "metadata": {
        "colab": {
          "base_uri": "https://localhost:8080/"
        },
        "id": "m4nVBhP02d5n",
        "outputId": "8f657b46-077a-4154-a178-7cb51efbeabe"
      },
      "execution_count": 22,
      "outputs": [
        {
          "output_type": "execute_result",
          "data": {
            "text/plain": [
              "array([1, 2, 3, 4, 5, 6])"
            ]
          },
          "metadata": {},
          "execution_count": 22
        }
      ]
    },
    {
      "cell_type": "markdown",
      "source": [
        "### np.expand_dims\n",
        "\n",
        "With the help of Numpy.expand_dims() method, we can get the expanded dimensions of an array\n",
        "\n",
        "https://numpy.org/doc/stable/reference/generated/numpy.expand_dims.html"
      ],
      "metadata": {
        "id": "av7xPbmAG2GI"
      }
    },
    {
      "cell_type": "code",
      "source": [
        "# code\n",
        "# EXPAND DIMENSIONS 1d to 2d, 2d to 3d, 3d to 4d\n",
        "a\n"
      ],
      "metadata": {
        "colab": {
          "base_uri": "https://localhost:8080/"
        },
        "id": "NB8-ZwEdG3m0",
        "outputId": "b91322e8-1eb4-4032-f6bc-006fe4aa958d"
      },
      "execution_count": 23,
      "outputs": [
        {
          "output_type": "execute_result",
          "data": {
            "text/plain": [
              "array([20, 21, 56, 57, 61, 63, 66, 68, 72, 73, 80, 85, 94, 96, 97])"
            ]
          },
          "metadata": {},
          "execution_count": 23
        }
      ]
    },
    {
      "cell_type": "code",
      "source": [
        "np.expand_dims(a,axis=0)\n",
        "np.expand_dims(a,axis=1)"
      ],
      "metadata": {
        "colab": {
          "base_uri": "https://localhost:8080/"
        },
        "id": "lD6lGHB_HYDv",
        "outputId": "b0ea0815-f050-4eec-e618-0306f70bd52e"
      },
      "execution_count": 25,
      "outputs": [
        {
          "output_type": "execute_result",
          "data": {
            "text/plain": [
              "array([[20, 21, 56, 57, 61, 63, 66, 68, 72, 73, 80, 85, 94, 96, 97]])"
            ]
          },
          "metadata": {},
          "execution_count": 25
        }
      ]
    },
    {
      "cell_type": "markdown",
      "source": [],
      "metadata": {
        "id": "6NtSTtaiIHRs"
      }
    }
  ]
}