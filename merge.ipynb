{
  "nbformat": 4,
  "nbformat_minor": 0,
  "metadata": {
    "colab": {
      "provenance": []
    },
    "kernelspec": {
      "name": "python3",
      "display_name": "Python 3"
    },
    "language_info": {
      "name": "python"
    }
  },
  "cells": [
    {
      "cell_type": "code",
      "execution_count": 1,
      "metadata": {
        "id": "LpYOn5UYVmc-"
      },
      "outputs": [],
      "source": [
        "import pandas as pd\n",
        "import numpy as np"
      ]
    },
    {
      "cell_type": "code",
      "source": [
        "courses = pd.read_csv('/content/courses.csv')\n",
        "students = pd.read_csv('/content/students.csv')\n",
        "nov = pd.read_csv('/content/reg-month1.csv')\n",
        "dec = pd.read_csv('/content/reg-month2.csv')\n",
        "\n",
        "matches = pd.read_csv('/content/matches.csv')\n",
        "delivery = pd.read_csv('/content/deliveries.csv')"
      ],
      "metadata": {
        "id": "IuR4iJ8-VpLv"
      },
      "execution_count": null,
      "outputs": []
    },
    {
      "cell_type": "code",
      "source": [
        "# pd.concat\n",
        "# df.concat\n",
        "# ignore_index\n",
        "# df.append\n",
        "# mullitindex -> fetch using iloc\n",
        "# concat dataframes horizontally"
      ],
      "metadata": {
        "id": "hSXjPUbDVv8L"
      },
      "execution_count": 2,
      "outputs": []
    },
    {
      "cell_type": "code",
      "source": [
        "regs = pd.concat([nov,dec],ignore_index=True)\n",
        "regs"
      ],
      "metadata": {
        "id": "EoME6jbyVy8b"
      },
      "execution_count": null,
      "outputs": []
    },
    {
      "cell_type": "code",
      "source": [
        "nov.append(dec,ignore_index=True)"
      ],
      "metadata": {
        "id": "yFmtWtdPV7b8"
      },
      "execution_count": null,
      "outputs": []
    },
    {
      "cell_type": "code",
      "source": [
        "multi = pd.concat([nov,dec],keys=['Nov','Dec'])\n",
        "# Multiindex DataFrame\n",
        "multi.loc[('Dec',4)]"
      ],
      "metadata": {
        "id": "H3Bgqt0OWAk4"
      },
      "execution_count": null,
      "outputs": []
    }
  ]
}