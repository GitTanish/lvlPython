{
  "nbformat": 4,
  "nbformat_minor": 0,
  "metadata": {
    "colab": {
      "provenance": [],
      "authorship_tag": "ABX9TyOqwuNhcwZfLLKtkJmeS4U7",
      "include_colab_link": true
    },
    "kernelspec": {
      "name": "python3",
      "display_name": "Python 3"
    },
    "language_info": {
      "name": "python"
    }
  },
  "cells": [
    {
      "cell_type": "markdown",
      "metadata": {
        "id": "view-in-github",
        "colab_type": "text"
      },
      "source": [
        "<a href=\"https://colab.research.google.com/github/GitTanish/lvlPython/blob/main/oop_1.ipynb\" target=\"_parent\"><img src=\"https://colab.research.google.com/assets/colab-badge.svg\" alt=\"Open In Colab\"/></a>"
      ]
    },
    {
      "cell_type": "code",
      "source": [
        "l=[1,2,3]\n",
        "\n"
      ],
      "metadata": {
        "id": "5jhkQjEUbP_p"
      },
      "execution_count": null,
      "outputs": []
    },
    {
      "cell_type": "code",
      "source": [
        "# syntax to create an object\n",
        "\n",
        "# objectname = classname()\n",
        "L =list([2,3,4])\n",
        "print(L)\n",
        "\n",
        "s = str('jello')\n",
        "print(s)"
      ],
      "metadata": {
        "colab": {
          "base_uri": "https://localhost:8080/"
        },
        "id": "rV4wQByPcqW1",
        "outputId": "5192a888-3163-4687-9bc2-1a0d13cbc443"
      },
      "execution_count": null,
      "outputs": [
        {
          "output_type": "stream",
          "name": "stdout",
          "text": [
            "[2, 3, 4]\n",
            "jello\n"
          ]
        }
      ]
    },
    {
      "cell_type": "code",
      "source": [
        "# object literal - python shorten the syntax for in built data types\n",
        "L= [1,2,3]\n",
        "s= 'help'"
      ],
      "metadata": {
        "id": "HvX4MwdfdT-R"
      },
      "execution_count": null,
      "outputs": []
    },
    {
      "cell_type": "code",
      "source": [
        "# Pascal Case  :- Word Starts From  Capital letter\n",
        "HelloWorld"
      ],
      "metadata": {
        "id": "6EcG8sume4gl"
      },
      "execution_count": null,
      "outputs": []
    },
    {
      "cell_type": "markdown",
      "source": [
        "### atm machine code"
      ],
      "metadata": {
        "id": "xonoZeooexdo"
      }
    },
    {
      "cell_type": "code",
      "source": [
        "class Atm:\n",
        "  # constructor - function inside a class\n",
        "  # constructor(special function) -> superpower -> don't need to call it explicitly i.e executes automatically without calling\n",
        "  # as soon as an object is created\n",
        "  def __init__(self):\n",
        "    self.pin=''\n",
        "    self.balance = 0\n",
        "    self.menu()\n",
        "\n",
        "  def menu(self):\n",
        "    user_input=input(\"\"\"\n",
        "    Hi how can i help you?\n",
        "    1. Press 1 to create pin\n",
        "    2. Press 2 to change pin\n",
        "    3. Press 3 to check balance\n",
        "    4. Press 4 to withdraw\n",
        "    5. Anything else to exit\n",
        "    \"\"\")\n",
        "\n",
        "    if user_input=='1':\n",
        "      # create pin\n",
        "      self.create_pin()\n",
        "    elif user_input=='2':\n",
        "      # change pin\n",
        "      self.change_pin()\n",
        "    elif user_input=='3':\n",
        "      # check balance\n",
        "      self.check_balance()\n",
        "    elif user_input=='4':\n",
        "      self.withdraw()\n",
        "      pass\n",
        "    else:\n",
        "      exit()\n",
        "\n",
        "  def create_pin(self):\n",
        "    while True:\n",
        "      user_pin = input('enter your 4-digit pin')\n",
        "      if user_pin.isdigit() and len(user_pin)== 4:\n",
        "        self.pin = user_pin\n",
        "        break\n",
        "      else:\n",
        "        print('enter a valid 4 pin')\n",
        "\n",
        "    user_balance = int(input('enter balance: '))\n",
        "    self.balance= user_balance\n",
        "\n",
        "    print('pin created successfully')\n",
        "    self.menu()\n",
        "\n",
        "  def change_pin(self):\n",
        "    old_pin =input('enter old pin: ')\n",
        "\n",
        "    if old_pin == self.pin:\n",
        "      while True:\n",
        "        new_pin = input('enter your 4-digit pin')\n",
        "        if new_pin.isdigit() and len(new_pin)== 4:\n",
        "          self.pin = new_pin\n",
        "          self.menu()\n",
        "          break\n",
        "        else:\n",
        "          print('enter a valid 4 pin')\n",
        "    else:\n",
        "      print('not possible')\n",
        "      self.menu()\n",
        "\n",
        "  def check_balance(self):\n",
        "    user_pin=input('enter your pin')\n",
        "    if user_pin == self.pin:\n",
        "      print('your balance is ',self.balance)\n",
        "      self.menu()\n",
        "    else:\n",
        "      print('enter a valid pin')\n",
        "      self.menu()\n",
        "\n",
        "  def withdraw(self):\n",
        "    user_pin=input('enter the pin: ')\n",
        "    if user_pin == self.pin:\n",
        "        #allow to withdraw\n",
        "      amount= int(input('enter amount'))\n",
        "      if amount <= self.balance:\n",
        "        self.balance = self.balance - amount\n",
        "        print('withdrawl successful balance is ', self.balance)\n",
        "        self.menu()\n",
        "      else:\n",
        "        print('Unable to withdraw')\n",
        "        self.menu\n",
        "    else:\n",
        "      print('incorrect pin')\n",
        "      self.menu()\n",
        "\n"
      ],
      "metadata": {
        "id": "87At0kv6e1ab"
      },
      "execution_count": 3,
      "outputs": []
    },
    {
      "cell_type": "code",
      "source": [
        "obj = Atm()"
      ],
      "metadata": {
        "colab": {
          "base_uri": "https://localhost:8080/"
        },
        "id": "1INkuzVJf0Tj",
        "outputId": "def38247-fb7b-422d-b8f7-65ec2eef363d"
      },
      "execution_count": 5,
      "outputs": [
        {
          "name": "stdout",
          "output_type": "stream",
          "text": [
            "\n",
            "    Hi how can i help you?\n",
            "    1. Press 1 to create pin\n",
            "    2. Press 2 to change pin\n",
            "    3. Press 3 to check balance\n",
            "    4. Press 4 to withdraw\n",
            "    5. Anything else to exit\n",
            "    9\n"
          ]
        }
      ]
    },
    {
      "cell_type": "code",
      "source": [
        "print(type(obj))"
      ],
      "metadata": {
        "colab": {
          "base_uri": "https://localhost:8080/"
        },
        "id": "QJHmz1wef8tI",
        "outputId": "1fca2e7e-6b3f-4a7c-8ab5-3f25a34785a4"
      },
      "execution_count": null,
      "outputs": [
        {
          "output_type": "stream",
          "name": "stdout",
          "text": [
            "<class '__main__.Atm'>\n"
          ]
        }
      ]
    },
    {
      "cell_type": "code",
      "source": [],
      "metadata": {
        "id": "MLNefz8ogIf8"
      },
      "execution_count": null,
      "outputs": []
    }
  ]
}