{
  "nbformat": 4,
  "nbformat_minor": 0,
  "metadata": {
    "colab": {
      "provenance": []
    },
    "kernelspec": {
      "name": "python3",
      "display_name": "Python 3"
    },
    "language_info": {
      "name": "python"
    }
  },
  "cells": [
    {
      "cell_type": "markdown",
      "source": [
        "### Write OOP classes to handle the following scenarios:\n",
        "\n",
        "- A user can create and view 2D coordinates\n",
        "- A user can find out the distance between 2 coordinates\n",
        "- A user can find find the distance of a coordinate from origin\n",
        "- A user can check if a point lies on a given line\n",
        "- A user can find the distance between a given 2D point and a given line\n"
      ],
      "metadata": {
        "id": "yOm_LRd7xxp0"
      }
    },
    {
      "cell_type": "code",
      "execution_count": null,
      "metadata": {
        "id": "Hn2wmC4exlEN"
      },
      "outputs": [],
      "source": [
        "\n",
        "class Point:\n",
        "\n",
        "  def __init__(self, x,y):\n",
        "    self.x_cod =x\n",
        "    self.y_cod =y\n",
        "\n",
        "  def __str__(self):\n",
        "    return '<{},{}>'.format(self.x_cod,self.y_cod)\n",
        "\n",
        "  def eucelidean_distance(self,other):\n",
        "#   squareroot((𝑥2−𝑥1)^2+(𝑦2−𝑦1)^2)\n",
        "    return ((self.x_cod -other.x_cod)**2 +(self.y_cod-other.y_cod)**2 )**0.5\n",
        "\n",
        "  def distance_from_origin(self): #origin is 0,0 in graph\n",
        "    return self.eucelidean_distance(Point(0,0)) # class object inside a class\n",
        "    #other formula\n",
        "  # return (self.x_cod**2 + self.y_cod**2)**0.5\n",
        "\n",
        "class Line:\n",
        "  # ax+by+c\n",
        "\n",
        "  def __init__(self,A,B,C):\n",
        "    self.A = A\n",
        "    self.B = B\n",
        "    self.C = C\n",
        "\n",
        "  def __str__(self):\n",
        "    return '{}x+{}y+{} = 0'.format(self.A,self.B,self.C)\n",
        "\n",
        "  def point_on_line(line,point):\n",
        "    if line.A*point.x_cod + line.B*point.y_cod + line.C ==0:\n",
        "      return 'lies on the line'\n",
        "    else:\n",
        "      return \"does not lie on the line\"\n",
        "\n",
        "  def shortest_distance(line,point):\n",
        "     return abs(line.A*point.x_cod + line.B*point.y_cod + line.C)/(line.A**2 + line.B**2)\n"
      ]
    },
    {
      "cell_type": "code",
      "source": [
        "p1 = Point(0,0)\n",
        "p2 = Point(1,1)\n",
        "print(p1)\n",
        "print(p1.eucelidean_distance(p2))\n",
        "p2.distance_from_origin()\n"
      ],
      "metadata": {
        "id": "AWUotaOExxQY",
        "colab": {
          "base_uri": "https://localhost:8080/"
        },
        "outputId": "d0f8f871-bae8-4e2b-9e65-8c0dae8bfdde"
      },
      "execution_count": null,
      "outputs": [
        {
          "output_type": "stream",
          "name": "stdout",
          "text": [
            "<0,0>\n",
            "1.4142135623730951\n"
          ]
        },
        {
          "output_type": "execute_result",
          "data": {
            "text/plain": [
              "1.4142135623730951"
            ]
          },
          "metadata": {},
          "execution_count": 21
        }
      ]
    },
    {
      "cell_type": "code",
      "source": [
        "l1 = Line(2,3,4)\n",
        "p1 = Point(1,1)\n",
        "l1.point_on_line(p1)\n",
        "l1.shortest_distance(p1)"
      ],
      "metadata": {
        "colab": {
          "base_uri": "https://localhost:8080/"
        },
        "id": "DePpab7ADelB",
        "outputId": "c126fbc6-fbfc-48a3-e763-f4df3ab4aa92"
      },
      "execution_count": null,
      "outputs": [
        {
          "output_type": "execute_result",
          "data": {
            "text/plain": [
              "0.6923076923076923"
            ]
          },
          "metadata": {},
          "execution_count": 31
        }
      ]
    },
    {
      "cell_type": "markdown",
      "source": [
        "### How objects access attributes\n"
      ],
      "metadata": {
        "id": "TsSnLgv2YbQs"
      }
    },
    {
      "cell_type": "code",
      "source": [
        "class Person:\n",
        "\n",
        "  def __init__(self,name_input,country_input):\n",
        "    self.name = name_input\n",
        "    self.country = country_input\n",
        "\n",
        "  def greet(self):\n",
        "    if self.country == 'india':\n",
        "      print('Namaste',self.name)\n",
        "    else:\n",
        "      print('Hello',self.name)\n"
      ],
      "metadata": {
        "id": "r-KSUBuyYpdG"
      },
      "execution_count": null,
      "outputs": []
    },
    {
      "cell_type": "code",
      "source": [
        "# how to access attributes\n",
        "p = Person('Nitish','india')"
      ],
      "metadata": {
        "id": "JZQsvVO2YvJx"
      },
      "execution_count": null,
      "outputs": []
    },
    {
      "cell_type": "code",
      "source": [
        "# how to access methods\n",
        "print(p.name)"
      ],
      "metadata": {
        "colab": {
          "base_uri": "https://localhost:8080/"
        },
        "id": "tXCJvTbnY3IX",
        "outputId": "5b3d093f-c145-4728-9cb2-662e6531e4cf"
      },
      "execution_count": null,
      "outputs": [
        {
          "output_type": "stream",
          "name": "stdout",
          "text": [
            "Nitish\n"
          ]
        }
      ]
    },
    {
      "cell_type": "code",
      "source": [
        "p.greet()"
      ],
      "metadata": {
        "colab": {
          "base_uri": "https://localhost:8080/"
        },
        "id": "CKbYHqy8ZH0Y",
        "outputId": "37ee83b5-0f84-4ec6-9506-2147e8505604"
      },
      "execution_count": null,
      "outputs": [
        {
          "output_type": "stream",
          "name": "stdout",
          "text": [
            "Namaste Nitish\n"
          ]
        }
      ]
    },
    {
      "cell_type": "code",
      "source": [
        "# what if i try to access non-existent attributes\n",
        "p.gender #obviously error"
      ],
      "metadata": {
        "colab": {
          "base_uri": "https://localhost:8080/",
          "height": 159
        },
        "id": "Scb_GlBgZQZ_",
        "outputId": "0ae60951-be38-4d9d-d145-c20df6d600cc"
      },
      "execution_count": null,
      "outputs": [
        {
          "output_type": "error",
          "ename": "AttributeError",
          "evalue": "'Person' object has no attribute 'gender'",
          "traceback": [
            "\u001b[0;31m---------------------------------------------------------------------------\u001b[0m",
            "\u001b[0;31mAttributeError\u001b[0m                            Traceback (most recent call last)",
            "\u001b[0;32m<ipython-input-36-39388d77d830>\u001b[0m in \u001b[0;36m<cell line: 2>\u001b[0;34m()\u001b[0m\n\u001b[1;32m      1\u001b[0m \u001b[0;31m# what if i try to access non-existent attributes\u001b[0m\u001b[0;34m\u001b[0m\u001b[0;34m\u001b[0m\u001b[0m\n\u001b[0;32m----> 2\u001b[0;31m \u001b[0mp\u001b[0m\u001b[0;34m.\u001b[0m\u001b[0mgender\u001b[0m\u001b[0;34m\u001b[0m\u001b[0;34m\u001b[0m\u001b[0m\n\u001b[0m",
            "\u001b[0;31mAttributeError\u001b[0m: 'Person' object has no attribute 'gender'"
          ]
        }
      ]
    },
    {
      "cell_type": "markdown",
      "source": [
        "### Attribute creation from outside of the class"
      ],
      "metadata": {
        "id": "x4MUygZGZzMU"
      }
    },
    {
      "cell_type": "code",
      "source": [
        "p.gender='male'"
      ],
      "metadata": {
        "id": "5Rl1pWTmZuZb"
      },
      "execution_count": null,
      "outputs": []
    },
    {
      "cell_type": "code",
      "source": [
        "p.gender"
      ],
      "metadata": {
        "colab": {
          "base_uri": "https://localhost:8080/",
          "height": 35
        },
        "id": "DOhHduqzdM3h",
        "outputId": "8f06f1e4-394a-466f-d95f-9afb8c27c2c2"
      },
      "execution_count": null,
      "outputs": [
        {
          "output_type": "execute_result",
          "data": {
            "text/plain": [
              "'male'"
            ],
            "application/vnd.google.colaboratory.intrinsic+json": {
              "type": "string"
            }
          },
          "metadata": {},
          "execution_count": 46
        }
      ]
    },
    {
      "cell_type": "markdown",
      "source": [
        "### Reference Variables\n",
        "\n",
        "- Reference variables hold the objects\n",
        "- We can create objects without reference variable as well\n",
        "- An object can have multiple reference variables\n",
        "- Assigning a new reference variable to an existing object does not create a new object"
      ],
      "metadata": {
        "id": "lkfSabYPdUxM"
      }
    },
    {
      "cell_type": "code",
      "source": [
        "# object without a reference\n",
        "class Person:\n",
        "\n",
        "  def __init__(self):\n",
        "    self.name = 'nitish'\n",
        "    self.gender = 'male'\n",
        "\n",
        "Person() # this is an object\n",
        "p = Person() # this is an reference variable which has the address of the object\n",
        "q = p"
      ],
      "metadata": {
        "id": "kGPQ2puliFPo"
      },
      "execution_count": null,
      "outputs": []
    },
    {
      "cell_type": "code",
      "source": [
        "print(id(p))\n",
        "print(id(q))"
      ],
      "metadata": {
        "colab": {
          "base_uri": "https://localhost:8080/"
        },
        "id": "OJ175Q6MkPvX",
        "outputId": "aad618ad-6099-4d99-bc08-adcd4793de5e"
      },
      "execution_count": null,
      "outputs": [
        {
          "output_type": "stream",
          "name": "stdout",
          "text": [
            "135408747399824\n",
            "135408747399824\n"
          ]
        }
      ]
    },
    {
      "cell_type": "code",
      "source": [
        "# change attribute value with the help of 2nd object"
      ],
      "metadata": {
        "id": "7QRDGHhxkiVo"
      },
      "execution_count": null,
      "outputs": []
    },
    {
      "cell_type": "code",
      "source": [
        "print(p.name)\n",
        "print(q.name)\n",
        "q.name = 'ankit'\n",
        "print(q.name)\n",
        "print(p.name)"
      ],
      "metadata": {
        "colab": {
          "base_uri": "https://localhost:8080/"
        },
        "id": "YJb_XFH8kxNH",
        "outputId": "079e5557-19e7-46ea-8f93-3a72e1e2bf97"
      },
      "execution_count": null,
      "outputs": [
        {
          "output_type": "stream",
          "name": "stdout",
          "text": [
            "nitish\n",
            "nitish\n",
            "ankit\n",
            "ankit\n"
          ]
        }
      ]
    },
    {
      "cell_type": "code",
      "source": [
        "class Person:\n",
        "\n",
        "  def __init__(self,name,gender):\n",
        "    self.name = name\n",
        "    self.gender = gender\n",
        "\n",
        "# outside the class -> function\n",
        "def greet(person):\n",
        "  print('Hi my name is',person.name,'and I am a',person.gender)\n",
        "  p1 = Person('ankit','male')\n",
        "  return p1\n",
        "\n",
        "p = Person('hi','male')\n",
        "x = greet(p)\n",
        "print(x.name)\n",
        "print(x.gender)\n",
        "greet(p)  # passing class object as input"
      ],
      "metadata": {
        "colab": {
          "base_uri": "https://localhost:8080/"
        },
        "id": "AukwM0kzmrVC",
        "outputId": "44d7ea43-59da-4a3d-e725-74e2e14ed0d2"
      },
      "execution_count": null,
      "outputs": [
        {
          "output_type": "stream",
          "name": "stdout",
          "text": [
            "Hi my name is hi and I am a male\n",
            "ankit\n",
            "male\n",
            "Hi my name is hi and I am a male\n"
          ]
        },
        {
          "output_type": "execute_result",
          "data": {
            "text/plain": [
              "<__main__.Person at 0x7b274e3bf130>"
            ]
          },
          "metadata": {},
          "execution_count": 60
        }
      ]
    },
    {
      "cell_type": "code",
      "source": [
        "class Person:\n",
        "\n",
        "  def __init__(self,name,gender):\n",
        "    self.name = name\n",
        "    self.gender = gender\n",
        "\n",
        "# outside the class -> function\n",
        "def greet(person):\n",
        "  print(id(person))\n",
        "  person.name = 'ankit'\n",
        "  print(person.name)\n",
        "\n",
        "p = Person('nitish','male')\n",
        "print(id(p))\n",
        "greet(p)\n",
        "print(p.name)\n",
        " # all objects in python are mutable by default because address doesn't change"
      ],
      "metadata": {
        "colab": {
          "base_uri": "https://localhost:8080/"
        },
        "id": "GQApHrZ2m2QG",
        "outputId": "25dccfb8-d6c9-422c-8189-d2ef3c32f38a"
      },
      "execution_count": null,
      "outputs": [
        {
          "output_type": "stream",
          "name": "stdout",
          "text": [
            "135408746488944\n",
            "135408746488944\n",
            "ankit\n",
            "ankit\n"
          ]
        }
      ]
    },
    {
      "cell_type": "markdown",
      "source": [
        "### Encapsulation\n",
        "\n"
      ],
      "metadata": {
        "id": "D1mh_8xQR6Yj"
      }
    },
    {
      "cell_type": "code",
      "source": [
        "# also instance variable wo variable hota hai\n",
        "# jiska value alag alag instance ke liye alag alag hota hai i.e value object ke upar depend kar raha hai\n",
        "# instance var -> python tutor\n",
        "class Person:\n",
        "\n",
        "  def __init__(self,name_input,country_input):\n",
        "    self.name = name_input    # instance variable\n",
        "    self.country = country_input\n",
        "\n",
        "p1 = Person('nitish','india')\n",
        "p2 = Person('steve','australia')"
      ],
      "metadata": {
        "id": "A5zkmEcPR8PV"
      },
      "execution_count": null,
      "outputs": []
    },
    {
      "cell_type": "code",
      "source": [
        "class Atm:\n",
        "\n",
        "  # constructor(special function)->superpower ->\n",
        "  def __init__(self):\n",
        "    print(id(self))\n",
        "    self.pin = ''\n",
        "    self.__balance = 0\n",
        "    #self.menu()\n",
        "\n",
        "  def get_balance(self):\n",
        "    return self.__balance\n",
        "\n",
        "  def set_balance(self,new_value):\n",
        "    if type(new_value) == int:\n",
        "      self.__balance = new_value\n",
        "    else:\n",
        "      print('beta bahot maarenge')\n",
        "\n",
        "  def __menu(self):\n",
        "    user_input = input(\"\"\"\n",
        "    Hi how can I help you?\n",
        "    1. Press 1 to create pin\n",
        "    2. Press 2 to change pin\n",
        "    3. Press 3 to check balance\n",
        "    4. Press 4 to withdraw\n",
        "    5. Anything else to exit\n",
        "    \"\"\")\n",
        "\n",
        "    if user_input == '1':\n",
        "      self.create_pin()\n",
        "    elif user_input == '2':\n",
        "      self.change_pin()\n",
        "    elif user_input == '3':\n",
        "      self.check_balance()\n",
        "    elif user_input == '4':\n",
        "      self.withdraw()\n",
        "    else:\n",
        "      exit()\n",
        "\n",
        "  def create_pin(self):\n",
        "    user_pin = input('enter your pin')\n",
        "    self.pin = user_pin\n",
        "\n",
        "    user_balance = int(input('enter balance'))\n",
        "    self.__balance = user_balance\n",
        "\n",
        "    print('pin created successfully')\n",
        "\n",
        "  def change_pin(self):\n",
        "    old_pin = input('enter old pin')\n",
        "\n",
        "    if old_pin == self.pin:\n",
        "      # let him change the pin\n",
        "      new_pin = input('enter new pin')\n",
        "      self.pin = new_pin\n",
        "      print('pin change successful')\n",
        "    else:\n",
        "      print('nai karne de sakta re baba')\n",
        "\n",
        "  def check_balance(self):\n",
        "    user_pin = input('enter your pin')\n",
        "    if user_pin == self.pin:\n",
        "      print('your balance is ',self.__balance)\n",
        "    else:\n",
        "      print('chal nikal yahan se')\n",
        "\n",
        "  def withdraw(self):\n",
        "    user_pin = input('enter the pin')\n",
        "    if user_pin == self.pin:\n",
        "      # allow to withdraw\n",
        "      amount = int(input('enter the amount'))\n",
        "      if amount <= self.__balance:\n",
        "        self.__balance = self.__balance - amount\n",
        "        print('withdrawl successful.balance is',self.__balance)\n",
        "      else:\n",
        "        print('abe garib')\n",
        "    else:\n",
        "      print('sale chor')"
      ],
      "metadata": {
        "id": "Te-GTKuuUrdd"
      },
      "execution_count": null,
      "outputs": []
    },
    {
      "cell_type": "code",
      "source": [
        "obj = Atm()"
      ],
      "metadata": {
        "colab": {
          "base_uri": "https://localhost:8080/"
        },
        "id": "ZUTcyFqIUsqA",
        "outputId": "756679df-a537-4de9-ed8d-bc4e10c48d80"
      },
      "execution_count": null,
      "outputs": [
        {
          "output_type": "stream",
          "name": "stdout",
          "text": [
            "139982249092400\n"
          ]
        }
      ]
    },
    {
      "cell_type": "code",
      "source": [
        "obj.create_pin()\n",
        "obj.balance ='hehehe' # now the balance is changed into a string and this will cause problem while withdrawing because integers cannot be subtracted from string\n",
        "# to avoid this you will use private variables or private attributes\n",
        "# in python unlike java there's no private keyword instead we use '__' above variable like 'self.__pin' instead of self.pin\n",
        "#obj._Atm__balance ='hehehe' but if used this instead the code will crash"
      ],
      "metadata": {
        "colab": {
          "base_uri": "https://localhost:8080/"
        },
        "id": "23uv8gToUx6B",
        "outputId": "a1e10edc-4b15-4f10-a5ab-4ca54ce5eaca"
      },
      "execution_count": null,
      "outputs": [
        {
          "output_type": "stream",
          "name": "stdout",
          "text": [
            "enter your pin1245\n",
            "enter balance233\n",
            "pin created successfully\n"
          ]
        }
      ]
    },
    {
      "cell_type": "code",
      "source": [
        "obj.withdraw()"
      ],
      "metadata": {
        "colab": {
          "base_uri": "https://localhost:8080/"
        },
        "id": "CNE7BuUcVTuH",
        "outputId": "e66d4ccb-1ea4-4507-8385-2684333e2c86"
      },
      "execution_count": null,
      "outputs": [
        {
          "output_type": "stream",
          "name": "stdout",
          "text": [
            "enter the pin1245\n",
            "enter the amount111\n",
            "withdrawl successful.balance is 122\n"
          ]
        }
      ]
    },
    {
      "cell_type": "code",
      "source": [
        "obj.get_balance()"
      ],
      "metadata": {
        "colab": {
          "base_uri": "https://localhost:8080/"
        },
        "id": "C0e2pSideTPA",
        "outputId": "dc366c8d-70dc-44f9-e658-c15e84d36ab5"
      },
      "execution_count": null,
      "outputs": [
        {
          "output_type": "execute_result",
          "data": {
            "text/plain": [
              "1000"
            ]
          },
          "metadata": {},
          "execution_count": 31
        }
      ]
    },
    {
      "cell_type": "code",
      "source": [
        "obj.set_balance(1000)"
      ],
      "metadata": {
        "id": "Gxmcn7kGeX39"
      },
      "execution_count": null,
      "outputs": []
    },
    {
      "cell_type": "code",
      "source": [
        "# list of objects\n",
        "class Person:\n",
        "\n",
        "  def __init__(self,name,gender):\n",
        "    self.name = name\n",
        "    self.gender = gender\n",
        "\n",
        "p1 = Person('niti','male')\n",
        "p2 = Person('nii','male')\n",
        "p3 = Person('nit','male')\n",
        "\n",
        "L = [p1,p2,p3] # storing objects in list is possible\n",
        "print(L) # address will be shown\n",
        "\n",
        "for i in L:\n",
        "  print(i.name,i.gender)"
      ],
      "metadata": {
        "colab": {
          "base_uri": "https://localhost:8080/"
        },
        "id": "5cqM_4EqndHO",
        "outputId": "1d4a46fc-08b5-42a3-f96b-7979373384d4"
      },
      "execution_count": null,
      "outputs": [
        {
          "output_type": "stream",
          "name": "stdout",
          "text": [
            "[<__main__.Person object at 0x7f50283b64d0>, <__main__.Person object at 0x7f50283b5960>, <__main__.Person object at 0x7f502845ec50>]\n",
            "niti male\n",
            "nii male\n",
            "nit male\n"
          ]
        }
      ]
    },
    {
      "cell_type": "code",
      "source": [
        "# need for static vars"
      ],
      "metadata": {
        "id": "SbHuR2kjnj7o"
      },
      "execution_count": null,
      "outputs": []
    },
    {
      "cell_type": "code",
      "source": [
        "class Atm:\n",
        "\n",
        "  __counter = 1\n",
        "\n",
        "  # constructor(special function)->superpower ->\n",
        "  def __init__(self):\n",
        "    print(id(self))\n",
        "    self.pin = ''\n",
        "    self.__balance = 0\n",
        "    self.cid = Atm.__counter\n",
        "    Atm.__counter = Atm.__counter + 1\n",
        "    #self.menu()\n",
        "\n",
        "  # utility functions\n",
        "  @staticmethod\n",
        "  def get_counter():\n",
        "    return Atm.__counter\n",
        "\n",
        "\n",
        "  def get_balance(self):\n",
        "    return self.__balance\n",
        "\n",
        "  def set_balance(self,new_value):\n",
        "    if type(new_value) == int:\n",
        "      self.__balance = new_value\n",
        "    else:\n",
        "      print('beta bahot maarenge')\n",
        "\n",
        "  def __menu(self):\n",
        "    user_input = input(\"\"\"\n",
        "    Hi how can I help you?\n",
        "    1. Press 1 to create pin\n",
        "    2. Press 2 to change pin\n",
        "    3. Press 3 to check balance\n",
        "    4. Press 4 to withdraw\n",
        "    5. Anything else to exit\n",
        "    \"\"\")\n",
        "\n",
        "    if user_input == '1':\n",
        "      self.create_pin()\n",
        "    elif user_input == '2':\n",
        "      self.change_pin()\n",
        "    elif user_input == '3':\n",
        "      self.check_balance()\n",
        "    elif user_input == '4':\n",
        "      self.withdraw()\n",
        "    else:\n",
        "      exit()\n",
        "\n",
        "  def create_pin(self):\n",
        "    user_pin = input('enter your pin')\n",
        "    self.pin = user_pin\n",
        "\n",
        "    user_balance = int(input('enter balance'))\n",
        "    self.__balance = user_balance\n",
        "\n",
        "    print('pin created successfully')\n",
        "\n",
        "  def change_pin(self):\n",
        "    old_pin = input('enter old pin')\n",
        "\n",
        "    if old_pin == self.pin:\n",
        "      # let him change the pin\n",
        "      new_pin = input('enter new pin')\n",
        "      self.pin = new_pin\n",
        "      print('pin change successful')\n",
        "    else:\n",
        "      print('nai karne de sakta re baba')\n",
        "\n",
        "  def check_balance(self):\n",
        "    user_pin = input('enter your pin')\n",
        "    if user_pin == self.pin:\n",
        "      print('your balance is ',self.__balance)\n",
        "    else:\n",
        "      print('chal nikal yahan se')\n",
        "\n",
        "  def withdraw(self):\n",
        "    user_pin = input('enter the pin')\n",
        "    if user_pin == self.pin:\n",
        "      # allow to withdraw\n",
        "      amount = int(input('enter the amount'))\n",
        "      if amount <= self.__balance:\n",
        "        self.__balance = self.__balance - amount\n",
        "        print('withdrawl successful.balance is',self.__balance)\n",
        "      else:\n",
        "        print('abe garib')\n",
        "    else:\n",
        "      print('sale chor')"
      ],
      "metadata": {
        "id": "8735JTsTqwmi"
      },
      "execution_count": null,
      "outputs": []
    },
    {
      "cell_type": "code",
      "source": [
        "c1 = Atm()"
      ],
      "metadata": {
        "colab": {
          "base_uri": "https://localhost:8080/"
        },
        "id": "z-zW4aoirAuo",
        "outputId": "ff2a1201-9d01-4bde-de96-b922a97c261a"
      },
      "execution_count": null,
      "outputs": [
        {
          "output_type": "stream",
          "name": "stdout",
          "text": [
            "139982249096432\n"
          ]
        }
      ]
    },
    {
      "cell_type": "code",
      "source": [
        "c2 = Atm()"
      ],
      "metadata": {
        "colab": {
          "base_uri": "https://localhost:8080/"
        },
        "id": "9ggYzf61rw_V",
        "outputId": "6451c976-760c-448b-91b2-fe35d1bf7000"
      },
      "execution_count": null,
      "outputs": [
        {
          "output_type": "stream",
          "name": "stdout",
          "text": [
            "139982249096480\n"
          ]
        }
      ]
    },
    {
      "cell_type": "code",
      "source": [
        "c3 = Atm()"
      ],
      "metadata": {
        "colab": {
          "base_uri": "https://localhost:8080/"
        },
        "id": "ofo2-OcsrylI",
        "outputId": "5a9ba417-1777-419d-aa99-06d22ae6473b"
      },
      "execution_count": null,
      "outputs": [
        {
          "output_type": "stream",
          "name": "stdout",
          "text": [
            "139982249097200\n"
          ]
        }
      ]
    },
    {
      "cell_type": "code",
      "source": [
        "c1.cid"
      ],
      "metadata": {
        "colab": {
          "base_uri": "https://localhost:8080/"
        },
        "id": "um_vRl_or0nC",
        "outputId": "03e76d79-6554-40e6-96d3-c7351253dd34"
      },
      "execution_count": null,
      "outputs": [
        {
          "output_type": "execute_result",
          "data": {
            "text/plain": [
              "2"
            ]
          },
          "metadata": {},
          "execution_count": 63
        }
      ]
    },
    {
      "cell_type": "code",
      "source": [
        "Atm.get_counter()"
      ],
      "metadata": {
        "colab": {
          "base_uri": "https://localhost:8080/"
        },
        "id": "Db4JQN1LyU9t",
        "outputId": "3f1e7ee8-1454-4534-bc0d-544ba9f7a3e3"
      },
      "execution_count": null,
      "outputs": [
        {
          "output_type": "execute_result",
          "data": {
            "text/plain": [
              "5"
            ]
          },
          "metadata": {},
          "execution_count": 64
        }
      ]
    },
    {
      "cell_type": "markdown",
      "source": [
        "##### Points to remember about static\n",
        "\n",
        "- Static attributes are created at class level.\n",
        "- Static attributes are accessed using ClassName.\n",
        "- Static attributes are object independent. We can access them without creating instance (object) of the class in which they are defined.\n",
        "- The value stored in static attribute is shared between all instances(objects) of the class in which the static attribute is defined."
      ],
      "metadata": {
        "id": "0IaUAo9mzB13"
      }
    },
    {
      "cell_type": "code",
      "source": [
        "class Lion:\n",
        "  __water_source=\"well in the circus\"\n",
        "\n",
        "  def __init__(self,name, gender):\n",
        "      self.__name=name\n",
        "      self.__gender=gender\n",
        "\n",
        "  def drinks_water(self):\n",
        "      print(self.__name,\n",
        "      \"drinks water from the\",Lion.__water_source)\n",
        "\n",
        "  @staticmethod\n",
        "  def get_water_source():\n",
        "      return Lion.__water_source\n",
        "\n",
        "simba=Lion(\"Simba\",\"Male\")\n",
        "simba.drinks_water()\n",
        "print( \"Water source of lions:\",Lion.get_water_source())"
      ],
      "metadata": {
        "id": "XVBwJTIPywou"
      },
      "execution_count": null,
      "outputs": []
    }
  ]
}