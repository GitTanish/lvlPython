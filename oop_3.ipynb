{
  "nbformat": 4,
  "nbformat_minor": 0,
  "metadata": {
    "colab": {
      "provenance": []
    },
    "kernelspec": {
      "name": "python3",
      "display_name": "Python 3"
    },
    "language_info": {
      "name": "python"
    }
  },
  "cells": [
    {
      "cell_type": "markdown",
      "source": [
        "### Class Relationships\n",
        "\n",
        "- Aggregation\n",
        "- Inheritance"
      ],
      "metadata": {
        "id": "pyLf2xOSpKdw"
      }
    },
    {
      "cell_type": "code",
      "execution_count": 10,
      "metadata": {
        "colab": {
          "base_uri": "https://localhost:8080/"
        },
        "id": "BlGgPd2yQ6Ek",
        "outputId": "6d03e86f-7f6e-4bab-934f-028b29cc0924"
      },
      "outputs": [
        {
          "output_type": "stream",
          "name": "stdout",
          "text": [
            "gurgaon 122011 haryana\n",
            "mumbai 111111 maharastra\n"
          ]
        }
      ],
      "source": [
        "# Aggregation- one class owns the other class BUT STILL THE MASTER CANNOT ACCESS THE PRIVATE CLASS\n",
        "# example\n",
        "#  Customer (has a) Address class\n",
        "# example\n",
        "class Customer:\n",
        "\n",
        "  def __init__(self,name,gender,address):\n",
        "    self.name = name\n",
        "    self.gender = gender\n",
        "    self.address = address\n",
        "\n",
        "  def print_address(self):\n",
        "    print(self.address._Address__city,self.address.pin,self.address.state)\n",
        "\n",
        "  def edit_profile(self,new_name,new_city,new_pin,new_state):\n",
        "    self.name = new_name\n",
        "    self.address.edit_address(new_city,new_pin,new_state)\n",
        "\n",
        "class Address:\n",
        "\n",
        "  def __init__(self,city,pin,state):\n",
        "      self.__city = city\n",
        "      self.pin = pin\n",
        "      self.state = state\n",
        "\n",
        "  def get_city(self):\n",
        "    return self.__city\n",
        "\n",
        "  def edit_address(self,new_city,new_pin,new_state):\n",
        "    self.__city = new_city\n",
        "    self.pin = new_pin\n",
        "    self.state = new_state\n",
        "\n",
        "add1 = Address('gurgaon',122011,'haryana')\n",
        "cust = Customer('nitish','male',add1)\n",
        "\n",
        "cust.print_address()\n",
        "\n",
        "cust.edit_profile('ankit','mumbai',111111,'maharastra')\n",
        "cust.print_address()\n",
        "# method example\n",
        "# what about private attribute"
      ]
    }
  ]
}